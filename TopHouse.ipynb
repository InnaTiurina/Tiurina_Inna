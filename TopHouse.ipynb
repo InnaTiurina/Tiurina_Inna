{
 "cells": [
  {
   "cell_type": "markdown",
   "id": "0495b27a",
   "metadata": {},
   "source": [
    "**Импортируем библиотеку pandas для работы с таблицей и plotly для визуализации**"
   ]
  },
  {
   "cell_type": "code",
   "execution_count": null,
   "id": "86026a53",
   "metadata": {},
   "outputs": [],
   "source": [
    "import pandas as pd\n",
    "import plotly.express as px"
   ]
  },
  {
   "cell_type": "markdown",
   "id": "b4feef45",
   "metadata": {},
   "source": [
    "**Считаем датафрейм, назовем df**"
   ]
  },
  {
   "cell_type": "code",
   "execution_count": 2,
   "id": "c1c476b2",
   "metadata": {},
   "outputs": [],
   "source": [
    "df =pd.read_excel('TopHouse.xlsx')"
   ]
  },
  {
   "cell_type": "markdown",
   "id": "9994801f",
   "metadata": {},
   "source": [
    "**Выведем первые 10 строк, чтобы посмотреть на его структуру**"
   ]
  },
  {
   "cell_type": "code",
   "execution_count": 30,
   "id": "844e0272",
   "metadata": {},
   "outputs": [
    {
     "data": {
      "text/html": [
       "<div>\n",
       "<style scoped>\n",
       "    .dataframe tbody tr th:only-of-type {\n",
       "        vertical-align: middle;\n",
       "    }\n",
       "\n",
       "    .dataframe tbody tr th {\n",
       "        vertical-align: top;\n",
       "    }\n",
       "\n",
       "    .dataframe thead th {\n",
       "        text-align: right;\n",
       "    }\n",
       "</style>\n",
       "<table border=\"1\" class=\"dataframe\">\n",
       "  <thead>\n",
       "    <tr style=\"text-align: right;\">\n",
       "      <th>4</th>\n",
       "      <th>index</th>\n",
       "      <th>Группа</th>\n",
       "      <th>NaN</th>\n",
       "      <th>Группа</th>\n",
       "      <th>NaN</th>\n",
       "      <th>Группа</th>\n",
       "      <th>Группа</th>\n",
       "      <th>Группа</th>\n",
       "      <th>Группа</th>\n",
       "      <th>Группа</th>\n",
       "      <th>...</th>\n",
       "      <th>Номенклатура.Основной поставщик (Общие)</th>\n",
       "      <th>Номенклатура.Бренд-менеджер (Общие)</th>\n",
       "      <th>Номенклатура.Выгружать на сайт</th>\n",
       "      <th>Номенклатура.Ценовая группа</th>\n",
       "      <th>Номенклатура.Товарная категория</th>\n",
       "      <th>Номенклатура.Длина (числитель)</th>\n",
       "      <th>Номенклатура.Ширина</th>\n",
       "      <th>Номенклатура.Не использовать</th>\n",
       "      <th>Номенклатура.Основная номенклатура</th>\n",
       "      <th>Номенклатура.Объем (числитель)</th>\n",
       "    </tr>\n",
       "  </thead>\n",
       "  <tbody>\n",
       "    <tr>\n",
       "      <th>0</th>\n",
       "      <td>5</td>\n",
       "      <td>NaN</td>\n",
       "      <td>NaN</td>\n",
       "      <td>NaN</td>\n",
       "      <td>NaN</td>\n",
       "      <td>NaN</td>\n",
       "      <td>NaN</td>\n",
       "      <td>NaN</td>\n",
       "      <td>NaN</td>\n",
       "      <td>ЛДЗД Кузнецовская</td>\n",
       "      <td>...</td>\n",
       "      <td>Фиктивный поставщик</td>\n",
       "      <td>Жаксыгунов Олжас</td>\n",
       "      <td>Нет</td>\n",
       "      <td>NaN</td>\n",
       "      <td>Штукатурки, Краски, Сухие Смеси, Спецсоставы, ...</td>\n",
       "      <td>NaN</td>\n",
       "      <td>NaN</td>\n",
       "      <td>Нет</td>\n",
       "      <td>NaN</td>\n",
       "      <td>NaN</td>\n",
       "    </tr>\n",
       "    <tr>\n",
       "      <th>1</th>\n",
       "      <td>6</td>\n",
       "      <td>NaN</td>\n",
       "      <td>NaN</td>\n",
       "      <td>NaN</td>\n",
       "      <td>NaN</td>\n",
       "      <td>NaN</td>\n",
       "      <td>NaN</td>\n",
       "      <td>NaN</td>\n",
       "      <td>NaN</td>\n",
       "      <td>ЛДЗД Кузнецовская</td>\n",
       "      <td>...</td>\n",
       "      <td>Фиктивный поставщик</td>\n",
       "      <td>Жаксыгунов Олжас</td>\n",
       "      <td>Нет</td>\n",
       "      <td>NaN</td>\n",
       "      <td>Штукатурки, Краски, Сухие Смеси, Спецсоставы, ...</td>\n",
       "      <td>NaN</td>\n",
       "      <td>NaN</td>\n",
       "      <td>Нет</td>\n",
       "      <td>NaN</td>\n",
       "      <td>NaN</td>\n",
       "    </tr>\n",
       "    <tr>\n",
       "      <th>2</th>\n",
       "      <td>7</td>\n",
       "      <td>NaN</td>\n",
       "      <td>NaN</td>\n",
       "      <td>NaN</td>\n",
       "      <td>NaN</td>\n",
       "      <td>NaN</td>\n",
       "      <td>NaN</td>\n",
       "      <td>NaN</td>\n",
       "      <td>NaN</td>\n",
       "      <td>ЛДЗД Кузнецовская</td>\n",
       "      <td>...</td>\n",
       "      <td>ТАЛАН (поставщик)</td>\n",
       "      <td>Жаксыгунов Олжас</td>\n",
       "      <td>Нет</td>\n",
       "      <td>NaN</td>\n",
       "      <td>Штукатурки, Краски, Сухие Смеси, Спецсоставы, ...</td>\n",
       "      <td>NaN</td>\n",
       "      <td>NaN</td>\n",
       "      <td>Нет</td>\n",
       "      <td>NaN</td>\n",
       "      <td>NaN</td>\n",
       "    </tr>\n",
       "    <tr>\n",
       "      <th>3</th>\n",
       "      <td>8</td>\n",
       "      <td>NaN</td>\n",
       "      <td>NaN</td>\n",
       "      <td>NaN</td>\n",
       "      <td>NaN</td>\n",
       "      <td>NaN</td>\n",
       "      <td>NaN</td>\n",
       "      <td>NaN</td>\n",
       "      <td>NaN</td>\n",
       "      <td>ЛДЗД Кузнецовская</td>\n",
       "      <td>...</td>\n",
       "      <td>ТАЛАН (поставщик)</td>\n",
       "      <td>Жаксыгунов Олжас</td>\n",
       "      <td>Нет</td>\n",
       "      <td>NaN</td>\n",
       "      <td>Штукатурки, Краски, Сухие Смеси, Спецсоставы, ...</td>\n",
       "      <td>NaN</td>\n",
       "      <td>NaN</td>\n",
       "      <td>Нет</td>\n",
       "      <td>NaN</td>\n",
       "      <td>NaN</td>\n",
       "    </tr>\n",
       "    <tr>\n",
       "      <th>4</th>\n",
       "      <td>9</td>\n",
       "      <td>NaN</td>\n",
       "      <td>NaN</td>\n",
       "      <td>NaN</td>\n",
       "      <td>NaN</td>\n",
       "      <td>NaN</td>\n",
       "      <td>NaN</td>\n",
       "      <td>NaN</td>\n",
       "      <td>NaN</td>\n",
       "      <td>ЛДЗД Кузнецовская</td>\n",
       "      <td>...</td>\n",
       "      <td>ЦСК ООО</td>\n",
       "      <td>Жаксыгунов Олжас</td>\n",
       "      <td>Нет</td>\n",
       "      <td>NaN</td>\n",
       "      <td>Штукатурки, Краски, Сухие Смеси, Спецсоставы, ...</td>\n",
       "      <td>NaN</td>\n",
       "      <td>NaN</td>\n",
       "      <td>Нет</td>\n",
       "      <td>NaN</td>\n",
       "      <td>NaN</td>\n",
       "    </tr>\n",
       "    <tr>\n",
       "      <th>5</th>\n",
       "      <td>10</td>\n",
       "      <td>NaN</td>\n",
       "      <td>NaN</td>\n",
       "      <td>NaN</td>\n",
       "      <td>NaN</td>\n",
       "      <td>NaN</td>\n",
       "      <td>NaN</td>\n",
       "      <td>NaN</td>\n",
       "      <td>NaN</td>\n",
       "      <td>ЛДЗД Кузнецовская</td>\n",
       "      <td>...</td>\n",
       "      <td>ТВОЙ ДОМ СПБ ООО</td>\n",
       "      <td>Жаксыгунов Олжас</td>\n",
       "      <td>Нет</td>\n",
       "      <td>NaN</td>\n",
       "      <td>Штукатурки, Краски, Сухие Смеси, Спецсоставы, ...</td>\n",
       "      <td>NaN</td>\n",
       "      <td>NaN</td>\n",
       "      <td>Нет</td>\n",
       "      <td>NaN</td>\n",
       "      <td>NaN</td>\n",
       "    </tr>\n",
       "    <tr>\n",
       "      <th>6</th>\n",
       "      <td>11</td>\n",
       "      <td>NaN</td>\n",
       "      <td>NaN</td>\n",
       "      <td>NaN</td>\n",
       "      <td>NaN</td>\n",
       "      <td>NaN</td>\n",
       "      <td>NaN</td>\n",
       "      <td>NaN</td>\n",
       "      <td>ЛДЗД Кузнецовская</td>\n",
       "      <td>Архив</td>\n",
       "      <td>...</td>\n",
       "      <td>Фиктивный поставщик</td>\n",
       "      <td>Жаксыгунов Олжас</td>\n",
       "      <td>Нет</td>\n",
       "      <td>NaN</td>\n",
       "      <td>Штукатурки, Краски, Сухие Смеси, Спецсоставы, ...</td>\n",
       "      <td>NaN</td>\n",
       "      <td>NaN</td>\n",
       "      <td>Да</td>\n",
       "      <td>NaN</td>\n",
       "      <td>NaN</td>\n",
       "    </tr>\n",
       "    <tr>\n",
       "      <th>7</th>\n",
       "      <td>12</td>\n",
       "      <td>NaN</td>\n",
       "      <td>NaN</td>\n",
       "      <td>NaN</td>\n",
       "      <td>NaN</td>\n",
       "      <td>NaN</td>\n",
       "      <td>NaN</td>\n",
       "      <td>NaN</td>\n",
       "      <td>ЛДЗД Кузнецовская</td>\n",
       "      <td>Архив</td>\n",
       "      <td>...</td>\n",
       "      <td>СПБ БАУМИТ ООО</td>\n",
       "      <td>Жаксыгунов Олжас</td>\n",
       "      <td>Нет</td>\n",
       "      <td>NaN</td>\n",
       "      <td>Штукатурки, Краски, Сухие Смеси, Спецсоставы, ...</td>\n",
       "      <td>NaN</td>\n",
       "      <td>NaN</td>\n",
       "      <td>Да</td>\n",
       "      <td>NaN</td>\n",
       "      <td>NaN</td>\n",
       "    </tr>\n",
       "    <tr>\n",
       "      <th>8</th>\n",
       "      <td>13</td>\n",
       "      <td>NaN</td>\n",
       "      <td>NaN</td>\n",
       "      <td>NaN</td>\n",
       "      <td>NaN</td>\n",
       "      <td>NaN</td>\n",
       "      <td>NaN</td>\n",
       "      <td>NaN</td>\n",
       "      <td>ЛДЗД Кузнецовская</td>\n",
       "      <td>Архив</td>\n",
       "      <td>...</td>\n",
       "      <td>Фиктивный поставщик</td>\n",
       "      <td>Жаксыгунов Олжас</td>\n",
       "      <td>Нет</td>\n",
       "      <td>NaN</td>\n",
       "      <td>Штукатурки, Краски, Сухие Смеси, Спецсоставы, ...</td>\n",
       "      <td>NaN</td>\n",
       "      <td>NaN</td>\n",
       "      <td>Да</td>\n",
       "      <td>NaN</td>\n",
       "      <td>NaN</td>\n",
       "    </tr>\n",
       "    <tr>\n",
       "      <th>9</th>\n",
       "      <td>14</td>\n",
       "      <td>NaN</td>\n",
       "      <td>NaN</td>\n",
       "      <td>NaN</td>\n",
       "      <td>NaN</td>\n",
       "      <td>NaN</td>\n",
       "      <td>NaN</td>\n",
       "      <td>NaN</td>\n",
       "      <td>ЛДЗД Кузнецовская</td>\n",
       "      <td>Архив</td>\n",
       "      <td>...</td>\n",
       "      <td>ТД РЕМИКС ООО</td>\n",
       "      <td>Жаксыгунов Олжас</td>\n",
       "      <td>Нет</td>\n",
       "      <td>NaN</td>\n",
       "      <td>Штукатурки, Краски, Сухие Смеси, Спецсоставы, ...</td>\n",
       "      <td>NaN</td>\n",
       "      <td>NaN</td>\n",
       "      <td>Да</td>\n",
       "      <td>NaN</td>\n",
       "      <td>NaN</td>\n",
       "    </tr>\n",
       "  </tbody>\n",
       "</table>\n",
       "<p>10 rows × 30 columns</p>\n",
       "</div>"
      ],
      "text/plain": [
       "4  index Группа  NaN Группа  NaN Группа Группа Группа             Группа  \\\n",
       "0      5    NaN  NaN    NaN  NaN    NaN    NaN    NaN                NaN   \n",
       "1      6    NaN  NaN    NaN  NaN    NaN    NaN    NaN                NaN   \n",
       "2      7    NaN  NaN    NaN  NaN    NaN    NaN    NaN                NaN   \n",
       "3      8    NaN  NaN    NaN  NaN    NaN    NaN    NaN                NaN   \n",
       "4      9    NaN  NaN    NaN  NaN    NaN    NaN    NaN                NaN   \n",
       "5     10    NaN  NaN    NaN  NaN    NaN    NaN    NaN                NaN   \n",
       "6     11    NaN  NaN    NaN  NaN    NaN    NaN    NaN  ЛДЗД Кузнецовская   \n",
       "7     12    NaN  NaN    NaN  NaN    NaN    NaN    NaN  ЛДЗД Кузнецовская   \n",
       "8     13    NaN  NaN    NaN  NaN    NaN    NaN    NaN  ЛДЗД Кузнецовская   \n",
       "9     14    NaN  NaN    NaN  NaN    NaN    NaN    NaN  ЛДЗД Кузнецовская   \n",
       "\n",
       "4             Группа  ...  Номенклатура.Основной поставщик (Общие)  \\\n",
       "0  ЛДЗД Кузнецовская  ...                      Фиктивный поставщик   \n",
       "1  ЛДЗД Кузнецовская  ...                      Фиктивный поставщик   \n",
       "2  ЛДЗД Кузнецовская  ...                        ТАЛАН (поставщик)   \n",
       "3  ЛДЗД Кузнецовская  ...                        ТАЛАН (поставщик)   \n",
       "4  ЛДЗД Кузнецовская  ...                                  ЦСК ООО   \n",
       "5  ЛДЗД Кузнецовская  ...                         ТВОЙ ДОМ СПБ ООО   \n",
       "6              Архив  ...                      Фиктивный поставщик   \n",
       "7              Архив  ...                           СПБ БАУМИТ ООО   \n",
       "8              Архив  ...                      Фиктивный поставщик   \n",
       "9              Архив  ...                            ТД РЕМИКС ООО   \n",
       "\n",
       "4 Номенклатура.Бренд-менеджер (Общие) Номенклатура.Выгружать на сайт  \\\n",
       "0                    Жаксыгунов Олжас                            Нет   \n",
       "1                    Жаксыгунов Олжас                            Нет   \n",
       "2                    Жаксыгунов Олжас                            Нет   \n",
       "3                    Жаксыгунов Олжас                            Нет   \n",
       "4                    Жаксыгунов Олжас                            Нет   \n",
       "5                    Жаксыгунов Олжас                            Нет   \n",
       "6                    Жаксыгунов Олжас                            Нет   \n",
       "7                    Жаксыгунов Олжас                            Нет   \n",
       "8                    Жаксыгунов Олжас                            Нет   \n",
       "9                    Жаксыгунов Олжас                            Нет   \n",
       "\n",
       "4 Номенклатура.Ценовая группа  \\\n",
       "0                         NaN   \n",
       "1                         NaN   \n",
       "2                         NaN   \n",
       "3                         NaN   \n",
       "4                         NaN   \n",
       "5                         NaN   \n",
       "6                         NaN   \n",
       "7                         NaN   \n",
       "8                         NaN   \n",
       "9                         NaN   \n",
       "\n",
       "4                    Номенклатура.Товарная категория  \\\n",
       "0  Штукатурки, Краски, Сухие Смеси, Спецсоставы, ...   \n",
       "1  Штукатурки, Краски, Сухие Смеси, Спецсоставы, ...   \n",
       "2  Штукатурки, Краски, Сухие Смеси, Спецсоставы, ...   \n",
       "3  Штукатурки, Краски, Сухие Смеси, Спецсоставы, ...   \n",
       "4  Штукатурки, Краски, Сухие Смеси, Спецсоставы, ...   \n",
       "5  Штукатурки, Краски, Сухие Смеси, Спецсоставы, ...   \n",
       "6  Штукатурки, Краски, Сухие Смеси, Спецсоставы, ...   \n",
       "7  Штукатурки, Краски, Сухие Смеси, Спецсоставы, ...   \n",
       "8  Штукатурки, Краски, Сухие Смеси, Спецсоставы, ...   \n",
       "9  Штукатурки, Краски, Сухие Смеси, Спецсоставы, ...   \n",
       "\n",
       "4 Номенклатура.Длина (числитель) Номенклатура.Ширина  \\\n",
       "0                            NaN                 NaN   \n",
       "1                            NaN                 NaN   \n",
       "2                            NaN                 NaN   \n",
       "3                            NaN                 NaN   \n",
       "4                            NaN                 NaN   \n",
       "5                            NaN                 NaN   \n",
       "6                            NaN                 NaN   \n",
       "7                            NaN                 NaN   \n",
       "8                            NaN                 NaN   \n",
       "9                            NaN                 NaN   \n",
       "\n",
       "4 Номенклатура.Не использовать Номенклатура.Основная номенклатура  \\\n",
       "0                          Нет                                NaN   \n",
       "1                          Нет                                NaN   \n",
       "2                          Нет                                NaN   \n",
       "3                          Нет                                NaN   \n",
       "4                          Нет                                NaN   \n",
       "5                          Нет                                NaN   \n",
       "6                           Да                                NaN   \n",
       "7                           Да                                NaN   \n",
       "8                           Да                                NaN   \n",
       "9                           Да                                NaN   \n",
       "\n",
       "4 Номенклатура.Объем (числитель)  \n",
       "0                            NaN  \n",
       "1                            NaN  \n",
       "2                            NaN  \n",
       "3                            NaN  \n",
       "4                            NaN  \n",
       "5                            NaN  \n",
       "6                            NaN  \n",
       "7                            NaN  \n",
       "8                            NaN  \n",
       "9                            NaN  \n",
       "\n",
       "[10 rows x 30 columns]"
      ]
     },
     "execution_count": 30,
     "metadata": {},
     "output_type": "execute_result"
    }
   ],
   "source": [
    "df.head(10)"
   ]
  },
  {
   "cell_type": "markdown",
   "id": "68f04c6e",
   "metadata": {},
   "source": [
    "**Выведем в названия колонок то,что оказалось на несколько строк ниже**"
   ]
  },
  {
   "cell_type": "code",
   "execution_count": 4,
   "id": "ee9a4723",
   "metadata": {},
   "outputs": [],
   "source": [
    "df.columns = df.iloc[4].reindex()"
   ]
  },
  {
   "cell_type": "markdown",
   "id": "56124ad1",
   "metadata": {},
   "source": [
    "**Уберем несколько лишних строк в начале таблицы**"
   ]
  },
  {
   "cell_type": "code",
   "execution_count": 5,
   "id": "5a695790",
   "metadata": {},
   "outputs": [],
   "source": [
    "df = df.drop(labels = [0,1,2,3,4],axis = 0).reset_index()"
   ]
  },
  {
   "cell_type": "markdown",
   "id": "a1614cb7",
   "metadata": {},
   "source": [
    "**Оставим только нужные нам столбцы в новом датафрейме data**"
   ]
  },
  {
   "cell_type": "code",
   "execution_count": 32,
   "id": "3c276a36",
   "metadata": {},
   "outputs": [],
   "source": [
    "data = df[['Номенклатура.Код','Номенклатура.Наименование','Номенклатура.Вес (числитель)']]"
   ]
  },
  {
   "cell_type": "code",
   "execution_count": 33,
   "id": "ef1a02f8",
   "metadata": {},
   "outputs": [
    {
     "name": "stdout",
     "output_type": "stream",
     "text": [
      "<class 'pandas.core.frame.DataFrame'>\n",
      "RangeIndex: 5719 entries, 0 to 5718\n",
      "Data columns (total 3 columns):\n",
      " #   Column                        Non-Null Count  Dtype \n",
      "---  ------                        --------------  ----- \n",
      " 0   Номенклатура.Код              5719 non-null   object\n",
      " 1   Номенклатура.Наименование     5719 non-null   object\n",
      " 2   Номенклатура.Вес (числитель)  2550 non-null   object\n",
      "dtypes: object(3)\n",
      "memory usage: 134.2+ KB\n"
     ]
    }
   ],
   "source": [
    "data.info()"
   ]
  },
  {
   "cell_type": "markdown",
   "id": "07036774",
   "metadata": {},
   "source": [
    "**Проверим вид таблицы**"
   ]
  },
  {
   "cell_type": "code",
   "execution_count": 8,
   "id": "b38ca010",
   "metadata": {},
   "outputs": [
    {
     "data": {
      "text/html": [
       "<div>\n",
       "<style scoped>\n",
       "    .dataframe tbody tr th:only-of-type {\n",
       "        vertical-align: middle;\n",
       "    }\n",
       "\n",
       "    .dataframe tbody tr th {\n",
       "        vertical-align: top;\n",
       "    }\n",
       "\n",
       "    .dataframe thead th {\n",
       "        text-align: right;\n",
       "    }\n",
       "</style>\n",
       "<table border=\"1\" class=\"dataframe\">\n",
       "  <thead>\n",
       "    <tr style=\"text-align: right;\">\n",
       "      <th>4</th>\n",
       "      <th>Номенклатура.Код</th>\n",
       "      <th>Номенклатура.Наименование</th>\n",
       "      <th>Номенклатура.Вес (числитель)</th>\n",
       "    </tr>\n",
       "  </thead>\n",
       "  <tbody>\n",
       "    <tr>\n",
       "      <th>0</th>\n",
       "      <td>00С10126690</td>\n",
       "      <td>Штукат сил-силик \"КОРОЕД\" ОСНОВИТ ЭКСТЕРВЭЛЛ O...</td>\n",
       "      <td>NaN</td>\n",
       "    </tr>\n",
       "    <tr>\n",
       "      <th>1</th>\n",
       "      <td>00С10138515</td>\n",
       "      <td>Штукатурка Alpina Expert R20 короед зерно 2 мм...</td>\n",
       "      <td>NaN</td>\n",
       "    </tr>\n",
       "    <tr>\n",
       "      <th>2</th>\n",
       "      <td>УТ-00001616</td>\n",
       "      <td>ТИККУРИЛА Краска алкидная Панссаримаали базис ...</td>\n",
       "      <td>NaN</td>\n",
       "    </tr>\n",
       "    <tr>\n",
       "      <th>3</th>\n",
       "      <td>УТ-00002068</td>\n",
       "      <td>ТИККУРИЛА Краска алкидная Панссаримаали базис ...</td>\n",
       "      <td>NaN</td>\n",
       "    </tr>\n",
       "    <tr>\n",
       "      <th>4</th>\n",
       "      <td>УТ-00797938</td>\n",
       "      <td>Кладочный раствор М-150 50кг (40шт/пд) KRAFTMIX</td>\n",
       "      <td>NaN</td>\n",
       "    </tr>\n",
       "    <tr>\n",
       "      <th>5</th>\n",
       "      <td>УТ-00820964</td>\n",
       "      <td>Антисептик Valtti Color Classic 2,7л декоратив...</td>\n",
       "      <td>NaN</td>\n",
       "    </tr>\n",
       "    <tr>\n",
       "      <th>6</th>\n",
       "      <td>00С10038021</td>\n",
       "      <td>архив Барельеф \"лев\"</td>\n",
       "      <td>NaN</td>\n",
       "    </tr>\n",
       "    <tr>\n",
       "      <th>7</th>\n",
       "      <td>00С10050626</td>\n",
       "      <td>архив Baumit Antisulfat Пропитка антисульфат 3...</td>\n",
       "      <td>NaN</td>\n",
       "    </tr>\n",
       "    <tr>\n",
       "      <th>8</th>\n",
       "      <td>00С10059489</td>\n",
       "      <td>архив НЕ ИСП Клей Реал для газобетона, 25кг</td>\n",
       "      <td>NaN</td>\n",
       "    </tr>\n",
       "    <tr>\n",
       "      <th>9</th>\n",
       "      <td>00С10082475</td>\n",
       "      <td>архив Литой бетон М300 Реал, 25кг</td>\n",
       "      <td>NaN</td>\n",
       "    </tr>\n",
       "    <tr>\n",
       "      <th>10</th>\n",
       "      <td>00С10083198</td>\n",
       "      <td>архив Не использовать_Цветной выкрас</td>\n",
       "      <td>NaN</td>\n",
       "    </tr>\n",
       "    <tr>\n",
       "      <th>11</th>\n",
       "      <td>00С10087524</td>\n",
       "      <td>яне исп Клеевая смесь  PEREL PREMIUM 0314 серы...</td>\n",
       "      <td>NaN</td>\n",
       "    </tr>\n",
       "    <tr>\n",
       "      <th>12</th>\n",
       "      <td>00С10089387</td>\n",
       "      <td>яне исп Затирка Hagastapel цвет серый , 25 кг</td>\n",
       "      <td>NaN</td>\n",
       "    </tr>\n",
       "    <tr>\n",
       "      <th>13</th>\n",
       "      <td>00С10089875</td>\n",
       "      <td>архив Ведро 2 л</td>\n",
       "      <td>NaN</td>\n",
       "    </tr>\n",
       "    <tr>\n",
       "      <th>14</th>\n",
       "      <td>00С10098321</td>\n",
       "      <td>архив 72202 Цветной Кладочный раствор QMix VZ ...</td>\n",
       "      <td>NaN</td>\n",
       "    </tr>\n",
       "  </tbody>\n",
       "</table>\n",
       "</div>"
      ],
      "text/plain": [
       "4  Номенклатура.Код                          Номенклатура.Наименование  \\\n",
       "0       00С10126690  Штукат сил-силик \"КОРОЕД\" ОСНОВИТ ЭКСТЕРВЭЛЛ O...   \n",
       "1       00С10138515  Штукатурка Alpina Expert R20 короед зерно 2 мм...   \n",
       "2       УТ-00001616  ТИККУРИЛА Краска алкидная Панссаримаали базис ...   \n",
       "3       УТ-00002068  ТИККУРИЛА Краска алкидная Панссаримаали базис ...   \n",
       "4       УТ-00797938    Кладочный раствор М-150 50кг (40шт/пд) KRAFTMIX   \n",
       "5       УТ-00820964  Антисептик Valtti Color Classic 2,7л декоратив...   \n",
       "6       00С10038021                               архив Барельеф \"лев\"   \n",
       "7       00С10050626  архив Baumit Antisulfat Пропитка антисульфат 3...   \n",
       "8       00С10059489        архив НЕ ИСП Клей Реал для газобетона, 25кг   \n",
       "9       00С10082475                  архив Литой бетон М300 Реал, 25кг   \n",
       "10      00С10083198               архив Не использовать_Цветной выкрас   \n",
       "11      00С10087524  яне исп Клеевая смесь  PEREL PREMIUM 0314 серы...   \n",
       "12      00С10089387      яне исп Затирка Hagastapel цвет серый , 25 кг   \n",
       "13      00С10089875                                    архив Ведро 2 л   \n",
       "14      00С10098321  архив 72202 Цветной Кладочный раствор QMix VZ ...   \n",
       "\n",
       "4  Номенклатура.Вес (числитель)  \n",
       "0                           NaN  \n",
       "1                           NaN  \n",
       "2                           NaN  \n",
       "3                           NaN  \n",
       "4                           NaN  \n",
       "5                           NaN  \n",
       "6                           NaN  \n",
       "7                           NaN  \n",
       "8                           NaN  \n",
       "9                           NaN  \n",
       "10                          NaN  \n",
       "11                          NaN  \n",
       "12                          NaN  \n",
       "13                          NaN  \n",
       "14                          NaN  "
      ]
     },
     "execution_count": 8,
     "metadata": {},
     "output_type": "execute_result"
    }
   ],
   "source": [
    "data.head(15)"
   ]
  },
  {
   "cell_type": "markdown",
   "id": "ecf2ead6",
   "metadata": {},
   "source": [
    "**Переименуем колонки**"
   ]
  },
  {
   "cell_type": "code",
   "execution_count": 35,
   "id": "95ce5ad8",
   "metadata": {},
   "outputs": [],
   "source": [
    "data = data.rename(columns={'Номенклатура.Код': 'код', 'Номенклатура.Наименование': 'наименование',\\\n",
    "                           'Номенклатура.Вес (числитель)': 'вес'})"
   ]
  },
  {
   "cell_type": "code",
   "execution_count": 36,
   "id": "f0c4d145",
   "metadata": {},
   "outputs": [
    {
     "data": {
      "text/html": [
       "<div>\n",
       "<style scoped>\n",
       "    .dataframe tbody tr th:only-of-type {\n",
       "        vertical-align: middle;\n",
       "    }\n",
       "\n",
       "    .dataframe tbody tr th {\n",
       "        vertical-align: top;\n",
       "    }\n",
       "\n",
       "    .dataframe thead th {\n",
       "        text-align: right;\n",
       "    }\n",
       "</style>\n",
       "<table border=\"1\" class=\"dataframe\">\n",
       "  <thead>\n",
       "    <tr style=\"text-align: right;\">\n",
       "      <th>4</th>\n",
       "      <th>код</th>\n",
       "      <th>наименование</th>\n",
       "      <th>вес</th>\n",
       "    </tr>\n",
       "  </thead>\n",
       "  <tbody>\n",
       "    <tr>\n",
       "      <th>3821</th>\n",
       "      <td>УТ-00212471</td>\n",
       "      <td>CE 40 2кг Затирка аквастатик (дымчатая роза 32...</td>\n",
       "      <td>2</td>\n",
       "    </tr>\n",
       "    <tr>\n",
       "      <th>5248</th>\n",
       "      <td>УТ-00218934</td>\n",
       "      <td>XE1 ПЛИТСЭЙВ 0.13кг Металлизированная добавка ...</td>\n",
       "      <td>0.13</td>\n",
       "    </tr>\n",
       "    <tr>\n",
       "      <th>4143</th>\n",
       "      <td>00С10076451</td>\n",
       "      <td>72302 FM В Цветная смесь QMix для заделки швов...</td>\n",
       "      <td>30</td>\n",
       "    </tr>\n",
       "    <tr>\n",
       "      <th>5074</th>\n",
       "      <td>УТ-00799772</td>\n",
       "      <td>Samtex 3 Pro 1.25л Краска водно-дисперсионная ...</td>\n",
       "      <td>NaN</td>\n",
       "    </tr>\n",
       "    <tr>\n",
       "      <th>1069</th>\n",
       "      <td>00С10078494</td>\n",
       "      <td>архив ATLAS SILKON N-200 силиконовая шт-ка 024...</td>\n",
       "      <td>NaN</td>\n",
       "    </tr>\n",
       "    <tr>\n",
       "      <th>4371</th>\n",
       "      <td>УТ-00238697</td>\n",
       "      <td>2.5м Цокольная планка для утепления U-200 Атлас</td>\n",
       "      <td>NaN</td>\n",
       "    </tr>\n",
       "    <tr>\n",
       "      <th>4197</th>\n",
       "      <td>00С10148404</td>\n",
       "      <td>72395 MPL wa Облегченная штукатурка для маш на...</td>\n",
       "      <td>NaN</td>\n",
       "    </tr>\n",
       "    <tr>\n",
       "      <th>3293</th>\n",
       "      <td>УТ-00822629</td>\n",
       "      <td>Baumit Ceramic S 25кг Цветной раствор антрацит</td>\n",
       "      <td>NaN</td>\n",
       "    </tr>\n",
       "    <tr>\n",
       "      <th>1282</th>\n",
       "      <td>00С10116148</td>\n",
       "      <td>архив SAH Силикат-силикон штукатурка шуба (TSA...</td>\n",
       "      <td>25</td>\n",
       "    </tr>\n",
       "    <tr>\n",
       "      <th>44</th>\n",
       "      <td>УТ-00799975</td>\n",
       "      <td>Клей для газобетона зимний, 25 кг</td>\n",
       "      <td>NaN</td>\n",
       "    </tr>\n",
       "    <tr>\n",
       "      <th>3635</th>\n",
       "      <td>УТ-00238965</td>\n",
       "      <td>CP AmphiTint SB 1л Паста колеровочная 53 Rot/Р...</td>\n",
       "      <td>NaN</td>\n",
       "    </tr>\n",
       "    <tr>\n",
       "      <th>3811</th>\n",
       "      <td>УТ-00212461</td>\n",
       "      <td>CE 40 2кг Затирка аквастатик (кирпич 49) Ceresit</td>\n",
       "      <td>2</td>\n",
       "    </tr>\n",
       "    <tr>\n",
       "      <th>4384</th>\n",
       "      <td>УТ-00238689</td>\n",
       "      <td>колеровка SAH 13кг Краска силиконовая фасадная...</td>\n",
       "      <td>13</td>\n",
       "    </tr>\n",
       "    <tr>\n",
       "      <th>3130</th>\n",
       "      <td>УТ-00239478</td>\n",
       "      <td>(СТД) Профиль угловой ПВХ с армирующей сеткой ...</td>\n",
       "      <td>NaN</td>\n",
       "    </tr>\n",
       "    <tr>\n",
       "      <th>184</th>\n",
       "      <td>УТ-00744149</td>\n",
       "      <td>Mapei Mapegrout Thixotropic / Мапеи Мапеграут ...</td>\n",
       "      <td>NaN</td>\n",
       "    </tr>\n",
       "  </tbody>\n",
       "</table>\n",
       "</div>"
      ],
      "text/plain": [
       "4             код                                       наименование   вес\n",
       "3821  УТ-00212471  CE 40 2кг Затирка аквастатик (дымчатая роза 32...     2\n",
       "5248  УТ-00218934  XE1 ПЛИТСЭЙВ 0.13кг Металлизированная добавка ...  0.13\n",
       "4143  00С10076451  72302 FM В Цветная смесь QMix для заделки швов...    30\n",
       "5074  УТ-00799772  Samtex 3 Pro 1.25л Краска водно-дисперсионная ...   NaN\n",
       "1069  00С10078494  архив ATLAS SILKON N-200 силиконовая шт-ка 024...   NaN\n",
       "4371  УТ-00238697    2.5м Цокольная планка для утепления U-200 Атлас   NaN\n",
       "4197  00С10148404  72395 MPL wa Облегченная штукатурка для маш на...   NaN\n",
       "3293  УТ-00822629     Baumit Ceramic S 25кг Цветной раствор антрацит   NaN\n",
       "1282  00С10116148  архив SAH Силикат-силикон штукатурка шуба (TSA...    25\n",
       "44    УТ-00799975                  Клей для газобетона зимний, 25 кг   NaN\n",
       "3635  УТ-00238965  CP AmphiTint SB 1л Паста колеровочная 53 Rot/Р...   NaN\n",
       "3811  УТ-00212461   CE 40 2кг Затирка аквастатик (кирпич 49) Ceresit     2\n",
       "4384  УТ-00238689  колеровка SAH 13кг Краска силиконовая фасадная...    13\n",
       "3130  УТ-00239478  (СТД) Профиль угловой ПВХ с армирующей сеткой ...   NaN\n",
       "184   УТ-00744149  Mapei Mapegrout Thixotropic / Мапеи Мапеграут ...   NaN"
      ]
     },
     "execution_count": 36,
     "metadata": {},
     "output_type": "execute_result"
    }
   ],
   "source": [
    "#выведем 15 рандомных строк\n",
    "data.sample(15)"
   ]
  },
  {
   "cell_type": "markdown",
   "id": "f63c5c1a",
   "metadata": {},
   "source": [
    "**Для дальнейшей визуализации сохраним в row информацию о количестве заполненных ячеек с весом в исходном датасете и количестве пустых**"
   ]
  },
  {
   "cell_type": "code",
   "execution_count": 37,
   "id": "19a3fa03",
   "metadata": {},
   "outputs": [
    {
     "data": {
      "text/html": [
       "<div>\n",
       "<style scoped>\n",
       "    .dataframe tbody tr th:only-of-type {\n",
       "        vertical-align: middle;\n",
       "    }\n",
       "\n",
       "    .dataframe tbody tr th {\n",
       "        vertical-align: top;\n",
       "    }\n",
       "\n",
       "    .dataframe thead th {\n",
       "        text-align: right;\n",
       "    }\n",
       "</style>\n",
       "<table border=\"1\" class=\"dataframe\">\n",
       "  <thead>\n",
       "    <tr style=\"text-align: right;\">\n",
       "      <th></th>\n",
       "      <th>вес</th>\n",
       "    </tr>\n",
       "  </thead>\n",
       "  <tbody>\n",
       "    <tr>\n",
       "      <th>True</th>\n",
       "      <td>0.554118</td>\n",
       "    </tr>\n",
       "    <tr>\n",
       "      <th>False</th>\n",
       "      <td>0.445882</td>\n",
       "    </tr>\n",
       "  </tbody>\n",
       "</table>\n",
       "</div>"
      ],
      "text/plain": [
       "            вес\n",
       "True   0.554118\n",
       "False  0.445882"
      ]
     },
     "execution_count": 37,
     "metadata": {},
     "output_type": "execute_result"
    }
   ],
   "source": [
    "row  = data['вес'].isna().value_counts(normalize = True)\n",
    "row.to_frame()"
   ]
  },
  {
   "cell_type": "code",
   "execution_count": 12,
   "id": "8610feb1",
   "metadata": {},
   "outputs": [
    {
     "name": "stdout",
     "output_type": "stream",
     "text": [
      "<class 'pandas.core.frame.DataFrame'>\n",
      "RangeIndex: 5719 entries, 0 to 5718\n",
      "Data columns (total 3 columns):\n",
      " #   Column        Non-Null Count  Dtype \n",
      "---  ------        --------------  ----- \n",
      " 0   код           5719 non-null   object\n",
      " 1   наименование  5719 non-null   object\n",
      " 2   вес           2550 non-null   object\n",
      "dtypes: object(3)\n",
      "memory usage: 134.2+ KB\n"
     ]
    }
   ],
   "source": [
    "data.info()"
   ]
  },
  {
   "cell_type": "markdown",
   "id": "82b12acd",
   "metadata": {},
   "source": [
    "**С помощью регулярного выражения, выделим из столбца с названием товара его вес в кг, добавим полученные данные в новую колонку \"вес извлеченный\"**"
   ]
  },
  {
   "cell_type": "code",
   "execution_count": 13,
   "id": "2a37a8a9",
   "metadata": {},
   "outputs": [],
   "source": [
    "data['вес извлеченный'] = data['наименование'].str.extract('\\s*([-+]?[0-9]*[.,]?[0-9]+(?:[eE][-+]?[0-9]+)?.кг).*')"
   ]
  },
  {
   "cell_type": "code",
   "execution_count": 16,
   "id": "00e825a6",
   "metadata": {},
   "outputs": [
    {
     "name": "stdout",
     "output_type": "stream",
     "text": [
      "<class 'pandas.core.frame.DataFrame'>\n",
      "RangeIndex: 5719 entries, 0 to 5718\n",
      "Data columns (total 4 columns):\n",
      " #   Column           Non-Null Count  Dtype \n",
      "---  ------           --------------  ----- \n",
      " 0   код              5719 non-null   object\n",
      " 1   наименование     5719 non-null   object\n",
      " 2   вес              2550 non-null   object\n",
      " 3   вес извлеченный  3502 non-null   object\n",
      "dtypes: object(4)\n",
      "memory usage: 178.8+ KB\n"
     ]
    }
   ],
   "source": [
    "data.info()"
   ]
  },
  {
   "cell_type": "markdown",
   "id": "8e7fc4a8",
   "metadata": {},
   "source": [
    "**Далее в пропущенные значения колонки вес подставим данные, где этот вес удалось извлечь. И оставим в результате только уже заполненную колонку \"вес\", убрав колонку \"вес извлеченный\"**"
   ]
  },
  {
   "cell_type": "code",
   "execution_count": 17,
   "id": "6ddc255d",
   "metadata": {},
   "outputs": [],
   "source": [
    "data['вес'] = data['вес'].fillna(data['вес извлеченный'])\n",
    "data.drop(columns = ['вес извлеченный'],axis = 1, inplace = True)"
   ]
  },
  {
   "cell_type": "code",
   "execution_count": 18,
   "id": "c38e11d7",
   "metadata": {},
   "outputs": [
    {
     "data": {
      "text/html": [
       "<div>\n",
       "<style scoped>\n",
       "    .dataframe tbody tr th:only-of-type {\n",
       "        vertical-align: middle;\n",
       "    }\n",
       "\n",
       "    .dataframe tbody tr th {\n",
       "        vertical-align: top;\n",
       "    }\n",
       "\n",
       "    .dataframe thead th {\n",
       "        text-align: right;\n",
       "    }\n",
       "</style>\n",
       "<table border=\"1\" class=\"dataframe\">\n",
       "  <thead>\n",
       "    <tr style=\"text-align: right;\">\n",
       "      <th>4</th>\n",
       "      <th>код</th>\n",
       "      <th>наименование</th>\n",
       "      <th>вес</th>\n",
       "    </tr>\n",
       "  </thead>\n",
       "  <tbody>\n",
       "    <tr>\n",
       "      <th>0</th>\n",
       "      <td>00С10126690</td>\n",
       "      <td>Штукат сил-силик \"КОРОЕД\" ОСНОВИТ ЭКСТЕРВЭЛЛ O...</td>\n",
       "      <td>25 кг</td>\n",
       "    </tr>\n",
       "    <tr>\n",
       "      <th>1</th>\n",
       "      <td>00С10138515</td>\n",
       "      <td>Штукатурка Alpina Expert R20 короед зерно 2 мм...</td>\n",
       "      <td>16 кг</td>\n",
       "    </tr>\n",
       "    <tr>\n",
       "      <th>2</th>\n",
       "      <td>УТ-00001616</td>\n",
       "      <td>ТИККУРИЛА Краска алкидная Панссаримаали базис ...</td>\n",
       "      <td>NaN</td>\n",
       "    </tr>\n",
       "    <tr>\n",
       "      <th>3</th>\n",
       "      <td>УТ-00002068</td>\n",
       "      <td>ТИККУРИЛА Краска алкидная Панссаримаали базис ...</td>\n",
       "      <td>NaN</td>\n",
       "    </tr>\n",
       "    <tr>\n",
       "      <th>4</th>\n",
       "      <td>УТ-00797938</td>\n",
       "      <td>Кладочный раствор М-150 50кг (40шт/пд) KRAFTMIX</td>\n",
       "      <td>50кг</td>\n",
       "    </tr>\n",
       "    <tr>\n",
       "      <th>5</th>\n",
       "      <td>УТ-00820964</td>\n",
       "      <td>Антисептик Valtti Color Classic 2,7л декоратив...</td>\n",
       "      <td>NaN</td>\n",
       "    </tr>\n",
       "    <tr>\n",
       "      <th>6</th>\n",
       "      <td>00С10038021</td>\n",
       "      <td>архив Барельеф \"лев\"</td>\n",
       "      <td>NaN</td>\n",
       "    </tr>\n",
       "    <tr>\n",
       "      <th>7</th>\n",
       "      <td>00С10050626</td>\n",
       "      <td>архив Baumit Antisulfat Пропитка антисульфат 3...</td>\n",
       "      <td>30 кг</td>\n",
       "    </tr>\n",
       "    <tr>\n",
       "      <th>8</th>\n",
       "      <td>00С10059489</td>\n",
       "      <td>архив НЕ ИСП Клей Реал для газобетона, 25кг</td>\n",
       "      <td>25кг</td>\n",
       "    </tr>\n",
       "    <tr>\n",
       "      <th>9</th>\n",
       "      <td>00С10082475</td>\n",
       "      <td>архив Литой бетон М300 Реал, 25кг</td>\n",
       "      <td>25кг</td>\n",
       "    </tr>\n",
       "    <tr>\n",
       "      <th>10</th>\n",
       "      <td>00С10083198</td>\n",
       "      <td>архив Не использовать_Цветной выкрас</td>\n",
       "      <td>NaN</td>\n",
       "    </tr>\n",
       "    <tr>\n",
       "      <th>11</th>\n",
       "      <td>00С10087524</td>\n",
       "      <td>яне исп Клеевая смесь  PEREL PREMIUM 0314 серы...</td>\n",
       "      <td>25 кг</td>\n",
       "    </tr>\n",
       "    <tr>\n",
       "      <th>12</th>\n",
       "      <td>00С10089387</td>\n",
       "      <td>яне исп Затирка Hagastapel цвет серый , 25 кг</td>\n",
       "      <td>25 кг</td>\n",
       "    </tr>\n",
       "    <tr>\n",
       "      <th>13</th>\n",
       "      <td>00С10089875</td>\n",
       "      <td>архив Ведро 2 л</td>\n",
       "      <td>NaN</td>\n",
       "    </tr>\n",
       "    <tr>\n",
       "      <th>14</th>\n",
       "      <td>00С10098321</td>\n",
       "      <td>архив 72202 Цветной Кладочный раствор QMix VZ ...</td>\n",
       "      <td>30кг</td>\n",
       "    </tr>\n",
       "    <tr>\n",
       "      <th>15</th>\n",
       "      <td>00С10103262</td>\n",
       "      <td>архив Фугенбрайт FBR 300 Затирка для шир швов ...</td>\n",
       "      <td>25 кг</td>\n",
       "    </tr>\n",
       "    <tr>\n",
       "      <th>16</th>\n",
       "      <td>00С10106330</td>\n",
       "      <td>архив не исBaumit silikat top kratz (барашек) ...</td>\n",
       "      <td>25 кг</td>\n",
       "    </tr>\n",
       "    <tr>\n",
       "      <th>17</th>\n",
       "      <td>00С10115009</td>\n",
       "      <td>архив Комплект для пола № 1 Кар-Парк (к-т на 3...</td>\n",
       "      <td>8,2 кг</td>\n",
       "    </tr>\n",
       "    <tr>\n",
       "      <th>18</th>\n",
       "      <td>00С10144939</td>\n",
       "      <td>дубль Высокоэластичная клеевая смесь LITOKOL L...</td>\n",
       "      <td>25 кг</td>\n",
       "    </tr>\n",
       "    <tr>\n",
       "      <th>19</th>\n",
       "      <td>00С10161525</td>\n",
       "      <td>архив .База Baumit silikat top kratz (барашек)...</td>\n",
       "      <td>25кг</td>\n",
       "    </tr>\n",
       "    <tr>\n",
       "      <th>20</th>\n",
       "      <td>00С10168564</td>\n",
       "      <td>архив Комплект для пола № 1 Кар-Парк (к-т на 5...</td>\n",
       "      <td>14,3 кг</td>\n",
       "    </tr>\n",
       "    <tr>\n",
       "      <th>21</th>\n",
       "      <td>УТ-00238907</td>\n",
       "      <td>архив LITOKOL Starlike Defender EVO S.235 CAFF...</td>\n",
       "      <td>2,5 кг</td>\n",
       "    </tr>\n",
       "    <tr>\n",
       "      <th>22</th>\n",
       "      <td>УТ-00262799</td>\n",
       "      <td>архив Профиль LEAR LB 2/9.5</td>\n",
       "      <td>NaN</td>\n",
       "    </tr>\n",
       "    <tr>\n",
       "      <th>23</th>\n",
       "      <td>УТ-00800165</td>\n",
       "      <td>архив Weber therm S100 winter Армировочно-клее...</td>\n",
       "      <td>25</td>\n",
       "    </tr>\n",
       "    <tr>\n",
       "      <th>24</th>\n",
       "      <td>УТ-00800260</td>\n",
       "      <td>архив Bergauf Maximum Plus 25 кг Клей для всех...</td>\n",
       "      <td>25 кг</td>\n",
       "    </tr>\n",
       "    <tr>\n",
       "      <th>25</th>\n",
       "      <td>УТ-00010837</td>\n",
       "      <td>(Сат) БИБЕР 35208 Шпатель фасадный 350мм нержа...</td>\n",
       "      <td>NaN</td>\n",
       "    </tr>\n",
       "    <tr>\n",
       "      <th>26</th>\n",
       "      <td>УТ-00010838</td>\n",
       "      <td>БИБЕР 35207 Шпатель фасадный 250мм нержавеющий...</td>\n",
       "      <td>NaN</td>\n",
       "    </tr>\n",
       "    <tr>\n",
       "      <th>27</th>\n",
       "      <td>УТ-00010840</td>\n",
       "      <td>(Сат) БИБЕР 32513 Валик полиакрил ворс 11мм с ...</td>\n",
       "      <td>NaN</td>\n",
       "    </tr>\n",
       "    <tr>\n",
       "      <th>28</th>\n",
       "      <td>УТ-00240374</td>\n",
       "      <td>БИБЕР 71466 Сверло по дереву спиральное 16х460...</td>\n",
       "      <td>NaN</td>\n",
       "    </tr>\n",
       "    <tr>\n",
       "      <th>29</th>\n",
       "      <td>УТ-00241105</td>\n",
       "      <td>(Сат) БИБЕР 35620 правило алюминиевое трапеция...</td>\n",
       "      <td>NaN</td>\n",
       "    </tr>\n",
       "    <tr>\n",
       "      <th>30</th>\n",
       "      <td>УТ-00794507</td>\n",
       "      <td>БИБЕР 31813 Пленка защитная с клейкой лентой 2...</td>\n",
       "      <td>NaN</td>\n",
       "    </tr>\n",
       "    <tr>\n",
       "      <th>31</th>\n",
       "      <td>УТ-00794510</td>\n",
       "      <td>БИБЕР 65104 Ведро строительное 20 литров</td>\n",
       "      <td>NaN</td>\n",
       "    </tr>\n",
       "    <tr>\n",
       "      <th>32</th>\n",
       "      <td>УТ-00794511</td>\n",
       "      <td>БИБЕР 92003 Изолента ПВХ красная 13ммх11м (192...</td>\n",
       "      <td>NaN</td>\n",
       "    </tr>\n",
       "    <tr>\n",
       "      <th>33</th>\n",
       "      <td>УТ-00794512</td>\n",
       "      <td>БИБЕР 35175 Шпатель фасадный МАСТЕР нерж. стал...</td>\n",
       "      <td>NaN</td>\n",
       "    </tr>\n",
       "    <tr>\n",
       "      <th>34</th>\n",
       "      <td>УТ-00794513</td>\n",
       "      <td>БИБЕР 35502 Терка пластмассовая с губчатым пок...</td>\n",
       "      <td>NaN</td>\n",
       "    </tr>\n",
       "    <tr>\n",
       "      <th>35</th>\n",
       "      <td>УТ-00799165</td>\n",
       "      <td>БИБЕР 35180 Шпатель фасадный МАСТЕР 600мм Сатурн</td>\n",
       "      <td>NaN</td>\n",
       "    </tr>\n",
       "    <tr>\n",
       "      <th>36</th>\n",
       "      <td>УТ-00799166</td>\n",
       "      <td>БИБЕР 35178 Шпатель фасадный МАСТЕР 350мм Сатурн</td>\n",
       "      <td>NaN</td>\n",
       "    </tr>\n",
       "    <tr>\n",
       "      <th>37</th>\n",
       "      <td>УТ-00809186</td>\n",
       "      <td>БИБЕР 35209 Шпатель фасадный нерж. сталь 450мм</td>\n",
       "      <td>NaN</td>\n",
       "    </tr>\n",
       "    <tr>\n",
       "      <th>38</th>\n",
       "      <td>УТ-00809187</td>\n",
       "      <td>БИБЕР 35205 Шпатель фасадный нерж. сталь 150мм</td>\n",
       "      <td>NaN</td>\n",
       "    </tr>\n",
       "    <tr>\n",
       "      <th>39</th>\n",
       "      <td>УТ-00821552</td>\n",
       "      <td>БИБЕР 31814 Пленка защитная с клейкой лентой 2...</td>\n",
       "      <td>NaN</td>\n",
       "    </tr>\n",
       "    <tr>\n",
       "      <th>40</th>\n",
       "      <td>00С10176975</td>\n",
       "      <td>Песок намывной крупность 1,5-1,8 мм</td>\n",
       "      <td>NaN</td>\n",
       "    </tr>\n",
       "    <tr>\n",
       "      <th>41</th>\n",
       "      <td>00С10176977</td>\n",
       "      <td>Фиброволокно армирующее</td>\n",
       "      <td>1</td>\n",
       "    </tr>\n",
       "    <tr>\n",
       "      <th>42</th>\n",
       "      <td>00С10176978</td>\n",
       "      <td>Пластификатор для строит.растворов и бетона, 10 л</td>\n",
       "      <td>NaN</td>\n",
       "    </tr>\n",
       "    <tr>\n",
       "      <th>43</th>\n",
       "      <td>00С10176979</td>\n",
       "      <td>Цемент 50 кг</td>\n",
       "      <td>50 кг</td>\n",
       "    </tr>\n",
       "    <tr>\n",
       "      <th>44</th>\n",
       "      <td>УТ-00799975</td>\n",
       "      <td>Клей для газобетона зимний, 25 кг</td>\n",
       "      <td>25 кг</td>\n",
       "    </tr>\n",
       "    <tr>\n",
       "      <th>45</th>\n",
       "      <td>УТ-00799976</td>\n",
       "      <td>Клей для газобетона летний, 25 кг</td>\n",
       "      <td>25 кг</td>\n",
       "    </tr>\n",
       "    <tr>\n",
       "      <th>46</th>\n",
       "      <td>УТ-00238448</td>\n",
       "      <td>Alpina EXPERT Silicon Fassade 10л Краска водно...</td>\n",
       "      <td>NaN</td>\n",
       "    </tr>\n",
       "    <tr>\n",
       "      <th>47</th>\n",
       "      <td>УТ-00238879</td>\n",
       "      <td>Alpina EXPERT Tiefgrund Konzentrat 10л Грунтов...</td>\n",
       "      <td>NaN</td>\n",
       "    </tr>\n",
       "    <tr>\n",
       "      <th>48</th>\n",
       "      <td>УТ-00239052</td>\n",
       "      <td>Alpina EXPERT Deckenfarbe 2.5л Краска водно-ди...</td>\n",
       "      <td>NaN</td>\n",
       "    </tr>\n",
       "    <tr>\n",
       "      <th>49</th>\n",
       "      <td>УТ-00239053</td>\n",
       "      <td>Alpina EXPERT Deckenfarbe 10л Краска водно-дис...</td>\n",
       "      <td>NaN</td>\n",
       "    </tr>\n",
       "  </tbody>\n",
       "</table>\n",
       "</div>"
      ],
      "text/plain": [
       "4           код                                       наименование      вес\n",
       "0   00С10126690  Штукат сил-силик \"КОРОЕД\" ОСНОВИТ ЭКСТЕРВЭЛЛ O...    25 кг\n",
       "1   00С10138515  Штукатурка Alpina Expert R20 короед зерно 2 мм...    16 кг\n",
       "2   УТ-00001616  ТИККУРИЛА Краска алкидная Панссаримаали базис ...      NaN\n",
       "3   УТ-00002068  ТИККУРИЛА Краска алкидная Панссаримаали базис ...      NaN\n",
       "4   УТ-00797938    Кладочный раствор М-150 50кг (40шт/пд) KRAFTMIX     50кг\n",
       "5   УТ-00820964  Антисептик Valtti Color Classic 2,7л декоратив...      NaN\n",
       "6   00С10038021                               архив Барельеф \"лев\"      NaN\n",
       "7   00С10050626  архив Baumit Antisulfat Пропитка антисульфат 3...    30 кг\n",
       "8   00С10059489        архив НЕ ИСП Клей Реал для газобетона, 25кг     25кг\n",
       "9   00С10082475                  архив Литой бетон М300 Реал, 25кг     25кг\n",
       "10  00С10083198               архив Не использовать_Цветной выкрас      NaN\n",
       "11  00С10087524  яне исп Клеевая смесь  PEREL PREMIUM 0314 серы...    25 кг\n",
       "12  00С10089387      яне исп Затирка Hagastapel цвет серый , 25 кг    25 кг\n",
       "13  00С10089875                                    архив Ведро 2 л      NaN\n",
       "14  00С10098321  архив 72202 Цветной Кладочный раствор QMix VZ ...     30кг\n",
       "15  00С10103262  архив Фугенбрайт FBR 300 Затирка для шир швов ...    25 кг\n",
       "16  00С10106330  архив не исBaumit silikat top kratz (барашек) ...    25 кг\n",
       "17  00С10115009  архив Комплект для пола № 1 Кар-Парк (к-т на 3...   8,2 кг\n",
       "18  00С10144939  дубль Высокоэластичная клеевая смесь LITOKOL L...    25 кг\n",
       "19  00С10161525  архив .База Baumit silikat top kratz (барашек)...     25кг\n",
       "20  00С10168564  архив Комплект для пола № 1 Кар-Парк (к-т на 5...  14,3 кг\n",
       "21  УТ-00238907  архив LITOKOL Starlike Defender EVO S.235 CAFF...   2,5 кг\n",
       "22  УТ-00262799                        архив Профиль LEAR LB 2/9.5      NaN\n",
       "23  УТ-00800165  архив Weber therm S100 winter Армировочно-клее...       25\n",
       "24  УТ-00800260  архив Bergauf Maximum Plus 25 кг Клей для всех...    25 кг\n",
       "25  УТ-00010837  (Сат) БИБЕР 35208 Шпатель фасадный 350мм нержа...      NaN\n",
       "26  УТ-00010838  БИБЕР 35207 Шпатель фасадный 250мм нержавеющий...      NaN\n",
       "27  УТ-00010840  (Сат) БИБЕР 32513 Валик полиакрил ворс 11мм с ...      NaN\n",
       "28  УТ-00240374  БИБЕР 71466 Сверло по дереву спиральное 16х460...      NaN\n",
       "29  УТ-00241105  (Сат) БИБЕР 35620 правило алюминиевое трапеция...      NaN\n",
       "30  УТ-00794507  БИБЕР 31813 Пленка защитная с клейкой лентой 2...      NaN\n",
       "31  УТ-00794510          БИБЕР 65104 Ведро строительное 20 литров       NaN\n",
       "32  УТ-00794511  БИБЕР 92003 Изолента ПВХ красная 13ммх11м (192...      NaN\n",
       "33  УТ-00794512  БИБЕР 35175 Шпатель фасадный МАСТЕР нерж. стал...      NaN\n",
       "34  УТ-00794513  БИБЕР 35502 Терка пластмассовая с губчатым пок...      NaN\n",
       "35  УТ-00799165   БИБЕР 35180 Шпатель фасадный МАСТЕР 600мм Сатурн      NaN\n",
       "36  УТ-00799166   БИБЕР 35178 Шпатель фасадный МАСТЕР 350мм Сатурн      NaN\n",
       "37  УТ-00809186     БИБЕР 35209 Шпатель фасадный нерж. сталь 450мм      NaN\n",
       "38  УТ-00809187    БИБЕР 35205 Шпатель фасадный нерж. сталь 150мм       NaN\n",
       "39  УТ-00821552  БИБЕР 31814 Пленка защитная с клейкой лентой 2...      NaN\n",
       "40  00С10176975                Песок намывной крупность 1,5-1,8 мм      NaN\n",
       "41  00С10176977                            Фиброволокно армирующее        1\n",
       "42  00С10176978  Пластификатор для строит.растворов и бетона, 10 л      NaN\n",
       "43  00С10176979                                       Цемент 50 кг    50 кг\n",
       "44  УТ-00799975                  Клей для газобетона зимний, 25 кг    25 кг\n",
       "45  УТ-00799976                  Клей для газобетона летний, 25 кг    25 кг\n",
       "46  УТ-00238448  Alpina EXPERT Silicon Fassade 10л Краска водно...      NaN\n",
       "47  УТ-00238879  Alpina EXPERT Tiefgrund Konzentrat 10л Грунтов...      NaN\n",
       "48  УТ-00239052  Alpina EXPERT Deckenfarbe 2.5л Краска водно-ди...      NaN\n",
       "49  УТ-00239053  Alpina EXPERT Deckenfarbe 10л Краска водно-дис...      NaN"
      ]
     },
     "execution_count": 18,
     "metadata": {},
     "output_type": "execute_result"
    }
   ],
   "source": [
    "# проверим что получилось(рандомные 50 строк)\n",
    "data.head(50)"
   ]
  },
  {
   "cell_type": "markdown",
   "id": "851f27d3",
   "metadata": {},
   "source": [
    "**Чтобы вес везде отображался как число с плавающей точкой без значения величины(кг), приведем данные к одному типу. Это в дальнейшем поможет при необходимосии совершения расчетов**"
   ]
  },
  {
   "cell_type": "code",
   "execution_count": 19,
   "id": "27b5cf73",
   "metadata": {},
   "outputs": [],
   "source": [
    "data['вес'] = data['вес'].str.replace('кг', '').str.replace(',', '.').astype(float)"
   ]
  },
  {
   "cell_type": "code",
   "execution_count": 20,
   "id": "8212fd73",
   "metadata": {},
   "outputs": [
    {
     "data": {
      "text/html": [
       "<div>\n",
       "<style scoped>\n",
       "    .dataframe tbody tr th:only-of-type {\n",
       "        vertical-align: middle;\n",
       "    }\n",
       "\n",
       "    .dataframe tbody tr th {\n",
       "        vertical-align: top;\n",
       "    }\n",
       "\n",
       "    .dataframe thead th {\n",
       "        text-align: right;\n",
       "    }\n",
       "</style>\n",
       "<table border=\"1\" class=\"dataframe\">\n",
       "  <thead>\n",
       "    <tr style=\"text-align: right;\">\n",
       "      <th>4</th>\n",
       "      <th>код</th>\n",
       "      <th>наименование</th>\n",
       "      <th>вес</th>\n",
       "    </tr>\n",
       "  </thead>\n",
       "  <tbody>\n",
       "    <tr>\n",
       "      <th>2020</th>\n",
       "      <td>00С10082469</td>\n",
       "      <td>архив №156 Winter (зимний) вебер ветонит МЛ 5 ...</td>\n",
       "      <td>NaN</td>\n",
       "    </tr>\n",
       "    <tr>\n",
       "      <th>727</th>\n",
       "      <td>00С10041537</td>\n",
       "      <td>архив Дюбель распорный KDW-150, 1шт.</td>\n",
       "      <td>NaN</td>\n",
       "    </tr>\n",
       "    <tr>\n",
       "      <th>755</th>\n",
       "      <td>00С10045156</td>\n",
       "      <td>архив ATLAS Мозаичная штукатурка цвет №114 25 кг</td>\n",
       "      <td>25.0</td>\n",
       "    </tr>\n",
       "    <tr>\n",
       "      <th>3865</th>\n",
       "      <td>УТ-00212515</td>\n",
       "      <td>CS 25 280мл Силиконовая затирка (какао 52) Cer...</td>\n",
       "      <td>NaN</td>\n",
       "    </tr>\n",
       "    <tr>\n",
       "      <th>4232</th>\n",
       "      <td>00С10107346</td>\n",
       "      <td>SikaPlast-520 N 1л Суперпластификатор для бетона</td>\n",
       "      <td>NaN</td>\n",
       "    </tr>\n",
       "    <tr>\n",
       "      <th>4564</th>\n",
       "      <td>00С10070337</td>\n",
       "      <td>Цементно песчаная смесь РЕАЛ М75 25 кг</td>\n",
       "      <td>NaN</td>\n",
       "    </tr>\n",
       "    <tr>\n",
       "      <th>2718</th>\n",
       "      <td>УТ-00239115</td>\n",
       "      <td>архив Alpina 0.75л Лак алкидно-уретановый для ...</td>\n",
       "      <td>NaN</td>\n",
       "    </tr>\n",
       "    <tr>\n",
       "      <th>2288</th>\n",
       "      <td>00С10085709</td>\n",
       "      <td>архив 61255 Caparol-Reibeputz innen 15 цветн. ...</td>\n",
       "      <td>25.0</td>\n",
       "    </tr>\n",
       "    <tr>\n",
       "      <th>5639</th>\n",
       "      <td>УТ-00800118</td>\n",
       "      <td>Prime Цветная кладочная смесь LineBrick \"Wasse...</td>\n",
       "      <td>25.0</td>\n",
       "    </tr>\n",
       "    <tr>\n",
       "      <th>2277</th>\n",
       "      <td>00С10084974</td>\n",
       "      <td>архив ЦВЕТНАЯ Краска воднодисперсионная Caparo...</td>\n",
       "      <td>NaN</td>\n",
       "    </tr>\n",
       "    <tr>\n",
       "      <th>2930</th>\n",
       "      <td>00С10114817</td>\n",
       "      <td>архив дубль_СТРОЙБРИГ ГРАНИФИКС АС14 Плиточный...</td>\n",
       "      <td>NaN</td>\n",
       "    </tr>\n",
       "    <tr>\n",
       "      <th>5553</th>\n",
       "      <td>00С10092112</td>\n",
       "      <td>Система укладки брусчатки PEREL ROADSTONE шов-...</td>\n",
       "      <td>NaN</td>\n",
       "    </tr>\n",
       "    <tr>\n",
       "      <th>502</th>\n",
       "      <td>00С10092232</td>\n",
       "      <td>архив Затирка Hagastapel цвет коричневый (Редс...</td>\n",
       "      <td>NaN</td>\n",
       "    </tr>\n",
       "    <tr>\n",
       "      <th>5620</th>\n",
       "      <td>00С10116969</td>\n",
       "      <td>Prime Цветная кладочная смесь LineBrick Klinke...</td>\n",
       "      <td>NaN</td>\n",
       "    </tr>\n",
       "    <tr>\n",
       "      <th>1578</th>\n",
       "      <td>00С10069528</td>\n",
       "      <td>архив Baumit EdelPutzSpezial Natur Rille 2 mm,...</td>\n",
       "      <td>NaN</td>\n",
       "    </tr>\n",
       "    <tr>\n",
       "      <th>640</th>\n",
       "      <td>00С00034860</td>\n",
       "      <td>архив Клеевой раствор ATLAS (Польша) 25 кг</td>\n",
       "      <td>NaN</td>\n",
       "    </tr>\n",
       "    <tr>\n",
       "      <th>2779</th>\n",
       "      <td>00С10155427</td>\n",
       "      <td>архив LITOKOL Starlike C.480 ARDESIA затирочна...</td>\n",
       "      <td>5.0</td>\n",
       "    </tr>\n",
       "    <tr>\n",
       "      <th>411</th>\n",
       "      <td>УТ-00802658</td>\n",
       "      <td>Munhwa Маркер-краска черный линия 4 мм</td>\n",
       "      <td>NaN</td>\n",
       "    </tr>\n",
       "    <tr>\n",
       "      <th>3443</th>\n",
       "      <td>УТ-00239264</td>\n",
       "      <td>2кг Затирка для тонких швов №27 светло-серый C...</td>\n",
       "      <td>NaN</td>\n",
       "    </tr>\n",
       "    <tr>\n",
       "      <th>4507</th>\n",
       "      <td>УТ-00012393</td>\n",
       "      <td>FL-01 Шпатлевка полимерная готовая ПЕТРОМИКС 1...</td>\n",
       "      <td>17.0</td>\n",
       "    </tr>\n",
       "    <tr>\n",
       "      <th>5610</th>\n",
       "      <td>00С10117487</td>\n",
       "      <td>Латексная фасадная краска Perel Lattice (белая...</td>\n",
       "      <td>14.0</td>\n",
       "    </tr>\n",
       "    <tr>\n",
       "      <th>3787</th>\n",
       "      <td>УТ-00212437</td>\n",
       "      <td>CE 33 2кг Затирка для швов 1-6 мм внутри и сна...</td>\n",
       "      <td>NaN</td>\n",
       "    </tr>\n",
       "    <tr>\n",
       "      <th>2687</th>\n",
       "      <td>УТ-00238979</td>\n",
       "      <td>архив CP Samtex 7 1.25л Краска водно-дисперсио...</td>\n",
       "      <td>NaN</td>\n",
       "    </tr>\n",
       "    <tr>\n",
       "      <th>607</th>\n",
       "      <td>00С00026792</td>\n",
       "      <td>архив .Грунтовка АРКОЛ SX под краску АРКОЛ S, ...</td>\n",
       "      <td>NaN</td>\n",
       "    </tr>\n",
       "    <tr>\n",
       "      <th>4695</th>\n",
       "      <td>00С10110277</td>\n",
       "      <td>XC30 БРИКСЭЙВ 20кг Раствор для расшивки швов 0...</td>\n",
       "      <td>NaN</td>\n",
       "    </tr>\n",
       "    <tr>\n",
       "      <th>5327</th>\n",
       "      <td>00С10114280</td>\n",
       "      <td>XC35 Н ПЛИТСЭЙВ 20кг Затирка цементная высокоп...</td>\n",
       "      <td>NaN</td>\n",
       "    </tr>\n",
       "    <tr>\n",
       "      <th>1442</th>\n",
       "      <td>00С10167005</td>\n",
       "      <td>архив ATLAS МT 230.15 \"шуба\" защитно-отделочна...</td>\n",
       "      <td>25.0</td>\n",
       "    </tr>\n",
       "    <tr>\n",
       "      <th>1078</th>\n",
       "      <td>00С10079370</td>\n",
       "      <td>архив SILKAT R-200 (0060) силикатная штукатурк...</td>\n",
       "      <td>25.0</td>\n",
       "    </tr>\n",
       "    <tr>\n",
       "      <th>431</th>\n",
       "      <td>00С10130221</td>\n",
       "      <td>Укрепляющий эпоксидный состав \"Сделай пол\" бес...</td>\n",
       "      <td>NaN</td>\n",
       "    </tr>\n",
       "    <tr>\n",
       "      <th>16</th>\n",
       "      <td>00С10106330</td>\n",
       "      <td>архив не исBaumit silikat top kratz (барашек) ...</td>\n",
       "      <td>25.0</td>\n",
       "    </tr>\n",
       "    <tr>\n",
       "      <th>4635</th>\n",
       "      <td>УТ-00218758</td>\n",
       "      <td>RL20 GL РЕНОАРТ 17кг Штукатурка известково-гип...</td>\n",
       "      <td>NaN</td>\n",
       "    </tr>\n",
       "    <tr>\n",
       "      <th>4903</th>\n",
       "      <td>00С10087870</td>\n",
       "      <td>Выкрас Baumit silikat top rille силикатная шту...</td>\n",
       "      <td>4.0</td>\n",
       "    </tr>\n",
       "    <tr>\n",
       "      <th>44</th>\n",
       "      <td>УТ-00799975</td>\n",
       "      <td>Клей для газобетона зимний, 25 кг</td>\n",
       "      <td>25.0</td>\n",
       "    </tr>\n",
       "    <tr>\n",
       "      <th>3187</th>\n",
       "      <td>УТ-00239181</td>\n",
       "      <td>Alpina 10л Лазурь-гель для дерева шелковисто-м...</td>\n",
       "      <td>NaN</td>\n",
       "    </tr>\n",
       "    <tr>\n",
       "      <th>3665</th>\n",
       "      <td>УТ-00220409</td>\n",
       "      <td>Visage 13кг Наполнитель Гранит AfricaRed Ceresit</td>\n",
       "      <td>NaN</td>\n",
       "    </tr>\n",
       "    <tr>\n",
       "      <th>1342</th>\n",
       "      <td>00С10132573</td>\n",
       "      <td>архив SAH Силикат-силикон штукатурка короед (T...</td>\n",
       "      <td>NaN</td>\n",
       "    </tr>\n",
       "    <tr>\n",
       "      <th>3459</th>\n",
       "      <td>00С10070860</td>\n",
       "      <td>25кг Затирка для широких швов №05 желтый насыщ...</td>\n",
       "      <td>25.0</td>\n",
       "    </tr>\n",
       "    <tr>\n",
       "      <th>2045</th>\n",
       "      <td>00С10137288</td>\n",
       "      <td>архив вебер.пас эстраклин 2мм короед 0000 3кг ...</td>\n",
       "      <td>NaN</td>\n",
       "    </tr>\n",
       "    <tr>\n",
       "      <th>2874</th>\n",
       "      <td>00С10112829</td>\n",
       "      <td>архив Фасадная мозаичная штукатурка Wallmix Ve...</td>\n",
       "      <td>NaN</td>\n",
       "    </tr>\n",
       "    <tr>\n",
       "      <th>5635</th>\n",
       "      <td>УТ-00800113</td>\n",
       "      <td>Prime Цветная кладочная смесь LineBrick Klinke...</td>\n",
       "      <td>25.0</td>\n",
       "    </tr>\n",
       "    <tr>\n",
       "      <th>3109</th>\n",
       "      <td>00С10163475</td>\n",
       "      <td>(СТД) Стержень стеклопластиковый 450 мм (Бийск...</td>\n",
       "      <td>NaN</td>\n",
       "    </tr>\n",
       "    <tr>\n",
       "      <th>3839</th>\n",
       "      <td>УТ-00212489</td>\n",
       "      <td>CE 43 25кг Затирка высокопрочная (дымчато-бела...</td>\n",
       "      <td>NaN</td>\n",
       "    </tr>\n",
       "    <tr>\n",
       "      <th>3694</th>\n",
       "      <td>00С10148408</td>\n",
       "      <td>CL 152 10м Уплотнительная лента Ceresit</td>\n",
       "      <td>NaN</td>\n",
       "    </tr>\n",
       "    <tr>\n",
       "      <th>3059</th>\n",
       "      <td>00С10129096</td>\n",
       "      <td>снято с прои-ва 939108 Декор мозаичная шт-ка C...</td>\n",
       "      <td>25.0</td>\n",
       "    </tr>\n",
       "    <tr>\n",
       "      <th>105</th>\n",
       "      <td>00С10178483</td>\n",
       "      <td>КНАУФ шпаклевка Полимер Финиш для сухих помеще...</td>\n",
       "      <td>20.0</td>\n",
       "    </tr>\n",
       "    <tr>\n",
       "      <th>4060</th>\n",
       "      <td>УТ-00220907</td>\n",
       "      <td>CT 77 25кг Штукатурка мозаичная (1.4-2мм) Peru...</td>\n",
       "      <td>NaN</td>\n",
       "    </tr>\n",
       "    <tr>\n",
       "      <th>3036</th>\n",
       "      <td>00С10078377</td>\n",
       "      <td>CP AcrylFassadenfarbe 10л Краска водно-дисперс...</td>\n",
       "      <td>NaN</td>\n",
       "    </tr>\n",
       "    <tr>\n",
       "      <th>264</th>\n",
       "      <td>УТ-00814885</td>\n",
       "      <td>ПУФАС TEXTUR FARBE Штукатурка декоративная акр...</td>\n",
       "      <td>16.0</td>\n",
       "    </tr>\n",
       "    <tr>\n",
       "      <th>5044</th>\n",
       "      <td>00С10104192</td>\n",
       "      <td>ЦВЕТНОЙ ВЫКРАС Caparol (1 литр) краска_4</td>\n",
       "      <td>NaN</td>\n",
       "    </tr>\n",
       "    <tr>\n",
       "      <th>55</th>\n",
       "      <td>УТ-00746250</td>\n",
       "      <td>Alpina EXPERT Wandfarbe 9.4л Краска водно-дисп...</td>\n",
       "      <td>NaN</td>\n",
       "    </tr>\n",
       "  </tbody>\n",
       "</table>\n",
       "</div>"
      ],
      "text/plain": [
       "4             код                                       наименование   вес\n",
       "2020  00С10082469  архив №156 Winter (зимний) вебер ветонит МЛ 5 ...   NaN\n",
       "727   00С10041537               архив Дюбель распорный KDW-150, 1шт.   NaN\n",
       "755   00С10045156   архив ATLAS Мозаичная штукатурка цвет №114 25 кг  25.0\n",
       "3865  УТ-00212515  CS 25 280мл Силиконовая затирка (какао 52) Cer...   NaN\n",
       "4232  00С10107346   SikaPlast-520 N 1л Суперпластификатор для бетона   NaN\n",
       "4564  00С10070337             Цементно песчаная смесь РЕАЛ М75 25 кг   NaN\n",
       "2718  УТ-00239115  архив Alpina 0.75л Лак алкидно-уретановый для ...   NaN\n",
       "2288  00С10085709  архив 61255 Caparol-Reibeputz innen 15 цветн. ...  25.0\n",
       "5639  УТ-00800118  Prime Цветная кладочная смесь LineBrick \"Wasse...  25.0\n",
       "2277  00С10084974  архив ЦВЕТНАЯ Краска воднодисперсионная Caparo...   NaN\n",
       "2930  00С10114817  архив дубль_СТРОЙБРИГ ГРАНИФИКС АС14 Плиточный...   NaN\n",
       "5553  00С10092112  Система укладки брусчатки PEREL ROADSTONE шов-...   NaN\n",
       "502   00С10092232  архив Затирка Hagastapel цвет коричневый (Редс...   NaN\n",
       "5620  00С10116969  Prime Цветная кладочная смесь LineBrick Klinke...   NaN\n",
       "1578  00С10069528  архив Baumit EdelPutzSpezial Natur Rille 2 mm,...   NaN\n",
       "640   00С00034860         архив Клеевой раствор ATLAS (Польша) 25 кг   NaN\n",
       "2779  00С10155427  архив LITOKOL Starlike C.480 ARDESIA затирочна...   5.0\n",
       "411   УТ-00802658             Munhwa Маркер-краска черный линия 4 мм   NaN\n",
       "3443  УТ-00239264  2кг Затирка для тонких швов №27 светло-серый C...   NaN\n",
       "4507  УТ-00012393  FL-01 Шпатлевка полимерная готовая ПЕТРОМИКС 1...  17.0\n",
       "5610  00С10117487  Латексная фасадная краска Perel Lattice (белая...  14.0\n",
       "3787  УТ-00212437  CE 33 2кг Затирка для швов 1-6 мм внутри и сна...   NaN\n",
       "2687  УТ-00238979  архив CP Samtex 7 1.25л Краска водно-дисперсио...   NaN\n",
       "607   00С00026792  архив .Грунтовка АРКОЛ SX под краску АРКОЛ S, ...   NaN\n",
       "4695  00С10110277  XC30 БРИКСЭЙВ 20кг Раствор для расшивки швов 0...   NaN\n",
       "5327  00С10114280  XC35 Н ПЛИТСЭЙВ 20кг Затирка цементная высокоп...   NaN\n",
       "1442  00С10167005  архив ATLAS МT 230.15 \"шуба\" защитно-отделочна...  25.0\n",
       "1078  00С10079370  архив SILKAT R-200 (0060) силикатная штукатурк...  25.0\n",
       "431   00С10130221  Укрепляющий эпоксидный состав \"Сделай пол\" бес...   NaN\n",
       "16    00С10106330  архив не исBaumit silikat top kratz (барашек) ...  25.0\n",
       "4635  УТ-00218758  RL20 GL РЕНОАРТ 17кг Штукатурка известково-гип...   NaN\n",
       "4903  00С10087870  Выкрас Baumit silikat top rille силикатная шту...   4.0\n",
       "44    УТ-00799975                  Клей для газобетона зимний, 25 кг  25.0\n",
       "3187  УТ-00239181  Alpina 10л Лазурь-гель для дерева шелковисто-м...   NaN\n",
       "3665  УТ-00220409   Visage 13кг Наполнитель Гранит AfricaRed Ceresit   NaN\n",
       "1342  00С10132573  архив SAH Силикат-силикон штукатурка короед (T...   NaN\n",
       "3459  00С10070860  25кг Затирка для широких швов №05 желтый насыщ...  25.0\n",
       "2045  00С10137288  архив вебер.пас эстраклин 2мм короед 0000 3кг ...   NaN\n",
       "2874  00С10112829  архив Фасадная мозаичная штукатурка Wallmix Ve...   NaN\n",
       "5635  УТ-00800113  Prime Цветная кладочная смесь LineBrick Klinke...  25.0\n",
       "3109  00С10163475  (СТД) Стержень стеклопластиковый 450 мм (Бийск...   NaN\n",
       "3839  УТ-00212489  CE 43 25кг Затирка высокопрочная (дымчато-бела...   NaN\n",
       "3694  00С10148408            CL 152 10м Уплотнительная лента Ceresit   NaN\n",
       "3059  00С10129096  снято с прои-ва 939108 Декор мозаичная шт-ка C...  25.0\n",
       "105   00С10178483  КНАУФ шпаклевка Полимер Финиш для сухих помеще...  20.0\n",
       "4060  УТ-00220907  CT 77 25кг Штукатурка мозаичная (1.4-2мм) Peru...   NaN\n",
       "3036  00С10078377  CP AcrylFassadenfarbe 10л Краска водно-дисперс...   NaN\n",
       "264   УТ-00814885  ПУФАС TEXTUR FARBE Штукатурка декоративная акр...  16.0\n",
       "5044  00С10104192           ЦВЕТНОЙ ВЫКРАС Caparol (1 литр) краска_4   NaN\n",
       "55    УТ-00746250  Alpina EXPERT Wandfarbe 9.4л Краска водно-дисп...   NaN"
      ]
     },
     "execution_count": 20,
     "metadata": {},
     "output_type": "execute_result"
    }
   ],
   "source": [
    "data.sample(50)"
   ]
  },
  {
   "cell_type": "markdown",
   "id": "fb59ac49",
   "metadata": {},
   "source": [
    "**Сохраним по-аналогии информацию для визуализации обработанных данных**"
   ]
  },
  {
   "cell_type": "code",
   "execution_count": 21,
   "id": "e453eb1e",
   "metadata": {},
   "outputs": [
    {
     "data": {
      "text/html": [
       "<div>\n",
       "<style scoped>\n",
       "    .dataframe tbody tr th:only-of-type {\n",
       "        vertical-align: middle;\n",
       "    }\n",
       "\n",
       "    .dataframe tbody tr th {\n",
       "        vertical-align: top;\n",
       "    }\n",
       "\n",
       "    .dataframe thead th {\n",
       "        text-align: right;\n",
       "    }\n",
       "</style>\n",
       "<table border=\"1\" class=\"dataframe\">\n",
       "  <thead>\n",
       "    <tr style=\"text-align: right;\">\n",
       "      <th></th>\n",
       "      <th>вес</th>\n",
       "    </tr>\n",
       "  </thead>\n",
       "  <tbody>\n",
       "    <tr>\n",
       "      <th>True</th>\n",
       "      <td>0.691554</td>\n",
       "    </tr>\n",
       "    <tr>\n",
       "      <th>False</th>\n",
       "      <td>0.308446</td>\n",
       "    </tr>\n",
       "  </tbody>\n",
       "</table>\n",
       "</div>"
      ],
      "text/plain": [
       "            вес\n",
       "True   0.691554\n",
       "False  0.308446"
      ]
     },
     "execution_count": 21,
     "metadata": {},
     "output_type": "execute_result"
    }
   ],
   "source": [
    "filling_weight = data['вес'].isna().value_counts(normalize =True)\n",
    "filling_weight.to_frame()"
   ]
  },
  {
   "cell_type": "markdown",
   "id": "346b2ce5",
   "metadata": {},
   "source": [
    "**Сохраним в новую таблицу оработанные данные**"
   ]
  },
  {
   "cell_type": "code",
   "execution_count": 29,
   "id": "62b26522",
   "metadata": {},
   "outputs": [],
   "source": [
    "data.to_excel('Тестовое.xlsx',index = False)"
   ]
  },
  {
   "cell_type": "markdown",
   "id": "1b2e2a00",
   "metadata": {},
   "source": [
    "**Визуализируем какого было значение заполненных ячеек с весом относительно незаполненных**"
   ]
  },
  {
   "cell_type": "code",
   "execution_count": 39,
   "id": "8816d9eb",
   "metadata": {},
   "outputs": [
    {
     "data": {
      "application/vnd.plotly.v1+json": {
       "config": {
        "plotlyServerURL": "https://plot.ly"
       },
       "data": [
        {
         "domain": {
          "x": [
           0,
           1
          ],
          "y": [
           0,
           1
          ]
         },
         "hovertemplate": "вес=%{value}<extra></extra>",
         "labels": [
          0.5541178527714635,
          0.4458821472285365
         ],
         "legendgroup": "",
         "name": "",
         "showlegend": true,
         "type": "pie",
         "values": [
          0.5541178527714635,
          0.4458821472285365
         ]
        }
       ],
       "layout": {
        "legend": {
         "tracegroupgap": 0
        },
        "template": {
         "data": {
          "bar": [
           {
            "error_x": {
             "color": "#2a3f5f"
            },
            "error_y": {
             "color": "#2a3f5f"
            },
            "marker": {
             "line": {
              "color": "#E5ECF6",
              "width": 0.5
             },
             "pattern": {
              "fillmode": "overlay",
              "size": 10,
              "solidity": 0.2
             }
            },
            "type": "bar"
           }
          ],
          "barpolar": [
           {
            "marker": {
             "line": {
              "color": "#E5ECF6",
              "width": 0.5
             },
             "pattern": {
              "fillmode": "overlay",
              "size": 10,
              "solidity": 0.2
             }
            },
            "type": "barpolar"
           }
          ],
          "carpet": [
           {
            "aaxis": {
             "endlinecolor": "#2a3f5f",
             "gridcolor": "white",
             "linecolor": "white",
             "minorgridcolor": "white",
             "startlinecolor": "#2a3f5f"
            },
            "baxis": {
             "endlinecolor": "#2a3f5f",
             "gridcolor": "white",
             "linecolor": "white",
             "minorgridcolor": "white",
             "startlinecolor": "#2a3f5f"
            },
            "type": "carpet"
           }
          ],
          "choropleth": [
           {
            "colorbar": {
             "outlinewidth": 0,
             "ticks": ""
            },
            "type": "choropleth"
           }
          ],
          "contour": [
           {
            "colorbar": {
             "outlinewidth": 0,
             "ticks": ""
            },
            "colorscale": [
             [
              0,
              "#0d0887"
             ],
             [
              0.1111111111111111,
              "#46039f"
             ],
             [
              0.2222222222222222,
              "#7201a8"
             ],
             [
              0.3333333333333333,
              "#9c179e"
             ],
             [
              0.4444444444444444,
              "#bd3786"
             ],
             [
              0.5555555555555556,
              "#d8576b"
             ],
             [
              0.6666666666666666,
              "#ed7953"
             ],
             [
              0.7777777777777778,
              "#fb9f3a"
             ],
             [
              0.8888888888888888,
              "#fdca26"
             ],
             [
              1,
              "#f0f921"
             ]
            ],
            "type": "contour"
           }
          ],
          "contourcarpet": [
           {
            "colorbar": {
             "outlinewidth": 0,
             "ticks": ""
            },
            "type": "contourcarpet"
           }
          ],
          "heatmap": [
           {
            "colorbar": {
             "outlinewidth": 0,
             "ticks": ""
            },
            "colorscale": [
             [
              0,
              "#0d0887"
             ],
             [
              0.1111111111111111,
              "#46039f"
             ],
             [
              0.2222222222222222,
              "#7201a8"
             ],
             [
              0.3333333333333333,
              "#9c179e"
             ],
             [
              0.4444444444444444,
              "#bd3786"
             ],
             [
              0.5555555555555556,
              "#d8576b"
             ],
             [
              0.6666666666666666,
              "#ed7953"
             ],
             [
              0.7777777777777778,
              "#fb9f3a"
             ],
             [
              0.8888888888888888,
              "#fdca26"
             ],
             [
              1,
              "#f0f921"
             ]
            ],
            "type": "heatmap"
           }
          ],
          "heatmapgl": [
           {
            "colorbar": {
             "outlinewidth": 0,
             "ticks": ""
            },
            "colorscale": [
             [
              0,
              "#0d0887"
             ],
             [
              0.1111111111111111,
              "#46039f"
             ],
             [
              0.2222222222222222,
              "#7201a8"
             ],
             [
              0.3333333333333333,
              "#9c179e"
             ],
             [
              0.4444444444444444,
              "#bd3786"
             ],
             [
              0.5555555555555556,
              "#d8576b"
             ],
             [
              0.6666666666666666,
              "#ed7953"
             ],
             [
              0.7777777777777778,
              "#fb9f3a"
             ],
             [
              0.8888888888888888,
              "#fdca26"
             ],
             [
              1,
              "#f0f921"
             ]
            ],
            "type": "heatmapgl"
           }
          ],
          "histogram": [
           {
            "marker": {
             "pattern": {
              "fillmode": "overlay",
              "size": 10,
              "solidity": 0.2
             }
            },
            "type": "histogram"
           }
          ],
          "histogram2d": [
           {
            "colorbar": {
             "outlinewidth": 0,
             "ticks": ""
            },
            "colorscale": [
             [
              0,
              "#0d0887"
             ],
             [
              0.1111111111111111,
              "#46039f"
             ],
             [
              0.2222222222222222,
              "#7201a8"
             ],
             [
              0.3333333333333333,
              "#9c179e"
             ],
             [
              0.4444444444444444,
              "#bd3786"
             ],
             [
              0.5555555555555556,
              "#d8576b"
             ],
             [
              0.6666666666666666,
              "#ed7953"
             ],
             [
              0.7777777777777778,
              "#fb9f3a"
             ],
             [
              0.8888888888888888,
              "#fdca26"
             ],
             [
              1,
              "#f0f921"
             ]
            ],
            "type": "histogram2d"
           }
          ],
          "histogram2dcontour": [
           {
            "colorbar": {
             "outlinewidth": 0,
             "ticks": ""
            },
            "colorscale": [
             [
              0,
              "#0d0887"
             ],
             [
              0.1111111111111111,
              "#46039f"
             ],
             [
              0.2222222222222222,
              "#7201a8"
             ],
             [
              0.3333333333333333,
              "#9c179e"
             ],
             [
              0.4444444444444444,
              "#bd3786"
             ],
             [
              0.5555555555555556,
              "#d8576b"
             ],
             [
              0.6666666666666666,
              "#ed7953"
             ],
             [
              0.7777777777777778,
              "#fb9f3a"
             ],
             [
              0.8888888888888888,
              "#fdca26"
             ],
             [
              1,
              "#f0f921"
             ]
            ],
            "type": "histogram2dcontour"
           }
          ],
          "mesh3d": [
           {
            "colorbar": {
             "outlinewidth": 0,
             "ticks": ""
            },
            "type": "mesh3d"
           }
          ],
          "parcoords": [
           {
            "line": {
             "colorbar": {
              "outlinewidth": 0,
              "ticks": ""
             }
            },
            "type": "parcoords"
           }
          ],
          "pie": [
           {
            "automargin": true,
            "type": "pie"
           }
          ],
          "scatter": [
           {
            "fillpattern": {
             "fillmode": "overlay",
             "size": 10,
             "solidity": 0.2
            },
            "type": "scatter"
           }
          ],
          "scatter3d": [
           {
            "line": {
             "colorbar": {
              "outlinewidth": 0,
              "ticks": ""
             }
            },
            "marker": {
             "colorbar": {
              "outlinewidth": 0,
              "ticks": ""
             }
            },
            "type": "scatter3d"
           }
          ],
          "scattercarpet": [
           {
            "marker": {
             "colorbar": {
              "outlinewidth": 0,
              "ticks": ""
             }
            },
            "type": "scattercarpet"
           }
          ],
          "scattergeo": [
           {
            "marker": {
             "colorbar": {
              "outlinewidth": 0,
              "ticks": ""
             }
            },
            "type": "scattergeo"
           }
          ],
          "scattergl": [
           {
            "marker": {
             "colorbar": {
              "outlinewidth": 0,
              "ticks": ""
             }
            },
            "type": "scattergl"
           }
          ],
          "scattermapbox": [
           {
            "marker": {
             "colorbar": {
              "outlinewidth": 0,
              "ticks": ""
             }
            },
            "type": "scattermapbox"
           }
          ],
          "scatterpolar": [
           {
            "marker": {
             "colorbar": {
              "outlinewidth": 0,
              "ticks": ""
             }
            },
            "type": "scatterpolar"
           }
          ],
          "scatterpolargl": [
           {
            "marker": {
             "colorbar": {
              "outlinewidth": 0,
              "ticks": ""
             }
            },
            "type": "scatterpolargl"
           }
          ],
          "scatterternary": [
           {
            "marker": {
             "colorbar": {
              "outlinewidth": 0,
              "ticks": ""
             }
            },
            "type": "scatterternary"
           }
          ],
          "surface": [
           {
            "colorbar": {
             "outlinewidth": 0,
             "ticks": ""
            },
            "colorscale": [
             [
              0,
              "#0d0887"
             ],
             [
              0.1111111111111111,
              "#46039f"
             ],
             [
              0.2222222222222222,
              "#7201a8"
             ],
             [
              0.3333333333333333,
              "#9c179e"
             ],
             [
              0.4444444444444444,
              "#bd3786"
             ],
             [
              0.5555555555555556,
              "#d8576b"
             ],
             [
              0.6666666666666666,
              "#ed7953"
             ],
             [
              0.7777777777777778,
              "#fb9f3a"
             ],
             [
              0.8888888888888888,
              "#fdca26"
             ],
             [
              1,
              "#f0f921"
             ]
            ],
            "type": "surface"
           }
          ],
          "table": [
           {
            "cells": {
             "fill": {
              "color": "#EBF0F8"
             },
             "line": {
              "color": "white"
             }
            },
            "header": {
             "fill": {
              "color": "#C8D4E3"
             },
             "line": {
              "color": "white"
             }
            },
            "type": "table"
           }
          ]
         },
         "layout": {
          "annotationdefaults": {
           "arrowcolor": "#2a3f5f",
           "arrowhead": 0,
           "arrowwidth": 1
          },
          "autotypenumbers": "strict",
          "coloraxis": {
           "colorbar": {
            "outlinewidth": 0,
            "ticks": ""
           }
          },
          "colorscale": {
           "diverging": [
            [
             0,
             "#8e0152"
            ],
            [
             0.1,
             "#c51b7d"
            ],
            [
             0.2,
             "#de77ae"
            ],
            [
             0.3,
             "#f1b6da"
            ],
            [
             0.4,
             "#fde0ef"
            ],
            [
             0.5,
             "#f7f7f7"
            ],
            [
             0.6,
             "#e6f5d0"
            ],
            [
             0.7,
             "#b8e186"
            ],
            [
             0.8,
             "#7fbc41"
            ],
            [
             0.9,
             "#4d9221"
            ],
            [
             1,
             "#276419"
            ]
           ],
           "sequential": [
            [
             0,
             "#0d0887"
            ],
            [
             0.1111111111111111,
             "#46039f"
            ],
            [
             0.2222222222222222,
             "#7201a8"
            ],
            [
             0.3333333333333333,
             "#9c179e"
            ],
            [
             0.4444444444444444,
             "#bd3786"
            ],
            [
             0.5555555555555556,
             "#d8576b"
            ],
            [
             0.6666666666666666,
             "#ed7953"
            ],
            [
             0.7777777777777778,
             "#fb9f3a"
            ],
            [
             0.8888888888888888,
             "#fdca26"
            ],
            [
             1,
             "#f0f921"
            ]
           ],
           "sequentialminus": [
            [
             0,
             "#0d0887"
            ],
            [
             0.1111111111111111,
             "#46039f"
            ],
            [
             0.2222222222222222,
             "#7201a8"
            ],
            [
             0.3333333333333333,
             "#9c179e"
            ],
            [
             0.4444444444444444,
             "#bd3786"
            ],
            [
             0.5555555555555556,
             "#d8576b"
            ],
            [
             0.6666666666666666,
             "#ed7953"
            ],
            [
             0.7777777777777778,
             "#fb9f3a"
            ],
            [
             0.8888888888888888,
             "#fdca26"
            ],
            [
             1,
             "#f0f921"
            ]
           ]
          },
          "colorway": [
           "#636efa",
           "#EF553B",
           "#00cc96",
           "#ab63fa",
           "#FFA15A",
           "#19d3f3",
           "#FF6692",
           "#B6E880",
           "#FF97FF",
           "#FECB52"
          ],
          "font": {
           "color": "#2a3f5f"
          },
          "geo": {
           "bgcolor": "white",
           "lakecolor": "white",
           "landcolor": "#E5ECF6",
           "showlakes": true,
           "showland": true,
           "subunitcolor": "white"
          },
          "hoverlabel": {
           "align": "left"
          },
          "hovermode": "closest",
          "mapbox": {
           "style": "light"
          },
          "paper_bgcolor": "white",
          "plot_bgcolor": "#E5ECF6",
          "polar": {
           "angularaxis": {
            "gridcolor": "white",
            "linecolor": "white",
            "ticks": ""
           },
           "bgcolor": "#E5ECF6",
           "radialaxis": {
            "gridcolor": "white",
            "linecolor": "white",
            "ticks": ""
           }
          },
          "scene": {
           "xaxis": {
            "backgroundcolor": "#E5ECF6",
            "gridcolor": "white",
            "gridwidth": 2,
            "linecolor": "white",
            "showbackground": true,
            "ticks": "",
            "zerolinecolor": "white"
           },
           "yaxis": {
            "backgroundcolor": "#E5ECF6",
            "gridcolor": "white",
            "gridwidth": 2,
            "linecolor": "white",
            "showbackground": true,
            "ticks": "",
            "zerolinecolor": "white"
           },
           "zaxis": {
            "backgroundcolor": "#E5ECF6",
            "gridcolor": "white",
            "gridwidth": 2,
            "linecolor": "white",
            "showbackground": true,
            "ticks": "",
            "zerolinecolor": "white"
           }
          },
          "shapedefaults": {
           "line": {
            "color": "#2a3f5f"
           }
          },
          "ternary": {
           "aaxis": {
            "gridcolor": "white",
            "linecolor": "white",
            "ticks": ""
           },
           "baxis": {
            "gridcolor": "white",
            "linecolor": "white",
            "ticks": ""
           },
           "bgcolor": "#E5ECF6",
           "caxis": {
            "gridcolor": "white",
            "linecolor": "white",
            "ticks": ""
           }
          },
          "title": {
           "x": 0.05
          },
          "xaxis": {
           "automargin": true,
           "gridcolor": "white",
           "linecolor": "white",
           "ticks": "",
           "title": {
            "standoff": 15
           },
           "zerolinecolor": "white",
           "zerolinewidth": 2
          },
          "yaxis": {
           "automargin": true,
           "gridcolor": "white",
           "linecolor": "white",
           "ticks": "",
           "title": {
            "standoff": 15
           },
           "zerolinecolor": "white",
           "zerolinewidth": 2
          }
         }
        },
        "title": {
         "text": "Данные до обработки"
        }
       }
      },
      "text/html": [
       "<div>                            <div id=\"07735c20-e637-4650-95a5-9f43cd791b2b\" class=\"plotly-graph-div\" style=\"height:525px; width:100%;\"></div>            <script type=\"text/javascript\">                require([\"plotly\"], function(Plotly) {                    window.PLOTLYENV=window.PLOTLYENV || {};                                    if (document.getElementById(\"07735c20-e637-4650-95a5-9f43cd791b2b\")) {                    Plotly.newPlot(                        \"07735c20-e637-4650-95a5-9f43cd791b2b\",                        [{\"domain\":{\"x\":[0.0,1.0],\"y\":[0.0,1.0]},\"hovertemplate\":\"\\u0432\\u0435\\u0441=%{value}<extra></extra>\",\"labels\":[0.5541178527714635,0.4458821472285365],\"legendgroup\":\"\",\"name\":\"\",\"showlegend\":true,\"values\":[0.5541178527714635,0.4458821472285365],\"type\":\"pie\"}],                        {\"template\":{\"data\":{\"histogram2dcontour\":[{\"type\":\"histogram2dcontour\",\"colorbar\":{\"outlinewidth\":0,\"ticks\":\"\"},\"colorscale\":[[0.0,\"#0d0887\"],[0.1111111111111111,\"#46039f\"],[0.2222222222222222,\"#7201a8\"],[0.3333333333333333,\"#9c179e\"],[0.4444444444444444,\"#bd3786\"],[0.5555555555555556,\"#d8576b\"],[0.6666666666666666,\"#ed7953\"],[0.7777777777777778,\"#fb9f3a\"],[0.8888888888888888,\"#fdca26\"],[1.0,\"#f0f921\"]]}],\"choropleth\":[{\"type\":\"choropleth\",\"colorbar\":{\"outlinewidth\":0,\"ticks\":\"\"}}],\"histogram2d\":[{\"type\":\"histogram2d\",\"colorbar\":{\"outlinewidth\":0,\"ticks\":\"\"},\"colorscale\":[[0.0,\"#0d0887\"],[0.1111111111111111,\"#46039f\"],[0.2222222222222222,\"#7201a8\"],[0.3333333333333333,\"#9c179e\"],[0.4444444444444444,\"#bd3786\"],[0.5555555555555556,\"#d8576b\"],[0.6666666666666666,\"#ed7953\"],[0.7777777777777778,\"#fb9f3a\"],[0.8888888888888888,\"#fdca26\"],[1.0,\"#f0f921\"]]}],\"heatmap\":[{\"type\":\"heatmap\",\"colorbar\":{\"outlinewidth\":0,\"ticks\":\"\"},\"colorscale\":[[0.0,\"#0d0887\"],[0.1111111111111111,\"#46039f\"],[0.2222222222222222,\"#7201a8\"],[0.3333333333333333,\"#9c179e\"],[0.4444444444444444,\"#bd3786\"],[0.5555555555555556,\"#d8576b\"],[0.6666666666666666,\"#ed7953\"],[0.7777777777777778,\"#fb9f3a\"],[0.8888888888888888,\"#fdca26\"],[1.0,\"#f0f921\"]]}],\"heatmapgl\":[{\"type\":\"heatmapgl\",\"colorbar\":{\"outlinewidth\":0,\"ticks\":\"\"},\"colorscale\":[[0.0,\"#0d0887\"],[0.1111111111111111,\"#46039f\"],[0.2222222222222222,\"#7201a8\"],[0.3333333333333333,\"#9c179e\"],[0.4444444444444444,\"#bd3786\"],[0.5555555555555556,\"#d8576b\"],[0.6666666666666666,\"#ed7953\"],[0.7777777777777778,\"#fb9f3a\"],[0.8888888888888888,\"#fdca26\"],[1.0,\"#f0f921\"]]}],\"contourcarpet\":[{\"type\":\"contourcarpet\",\"colorbar\":{\"outlinewidth\":0,\"ticks\":\"\"}}],\"contour\":[{\"type\":\"contour\",\"colorbar\":{\"outlinewidth\":0,\"ticks\":\"\"},\"colorscale\":[[0.0,\"#0d0887\"],[0.1111111111111111,\"#46039f\"],[0.2222222222222222,\"#7201a8\"],[0.3333333333333333,\"#9c179e\"],[0.4444444444444444,\"#bd3786\"],[0.5555555555555556,\"#d8576b\"],[0.6666666666666666,\"#ed7953\"],[0.7777777777777778,\"#fb9f3a\"],[0.8888888888888888,\"#fdca26\"],[1.0,\"#f0f921\"]]}],\"surface\":[{\"type\":\"surface\",\"colorbar\":{\"outlinewidth\":0,\"ticks\":\"\"},\"colorscale\":[[0.0,\"#0d0887\"],[0.1111111111111111,\"#46039f\"],[0.2222222222222222,\"#7201a8\"],[0.3333333333333333,\"#9c179e\"],[0.4444444444444444,\"#bd3786\"],[0.5555555555555556,\"#d8576b\"],[0.6666666666666666,\"#ed7953\"],[0.7777777777777778,\"#fb9f3a\"],[0.8888888888888888,\"#fdca26\"],[1.0,\"#f0f921\"]]}],\"mesh3d\":[{\"type\":\"mesh3d\",\"colorbar\":{\"outlinewidth\":0,\"ticks\":\"\"}}],\"scatter\":[{\"fillpattern\":{\"fillmode\":\"overlay\",\"size\":10,\"solidity\":0.2},\"type\":\"scatter\"}],\"parcoords\":[{\"type\":\"parcoords\",\"line\":{\"colorbar\":{\"outlinewidth\":0,\"ticks\":\"\"}}}],\"scatterpolargl\":[{\"type\":\"scatterpolargl\",\"marker\":{\"colorbar\":{\"outlinewidth\":0,\"ticks\":\"\"}}}],\"bar\":[{\"error_x\":{\"color\":\"#2a3f5f\"},\"error_y\":{\"color\":\"#2a3f5f\"},\"marker\":{\"line\":{\"color\":\"#E5ECF6\",\"width\":0.5},\"pattern\":{\"fillmode\":\"overlay\",\"size\":10,\"solidity\":0.2}},\"type\":\"bar\"}],\"scattergeo\":[{\"type\":\"scattergeo\",\"marker\":{\"colorbar\":{\"outlinewidth\":0,\"ticks\":\"\"}}}],\"scatterpolar\":[{\"type\":\"scatterpolar\",\"marker\":{\"colorbar\":{\"outlinewidth\":0,\"ticks\":\"\"}}}],\"histogram\":[{\"marker\":{\"pattern\":{\"fillmode\":\"overlay\",\"size\":10,\"solidity\":0.2}},\"type\":\"histogram\"}],\"scattergl\":[{\"type\":\"scattergl\",\"marker\":{\"colorbar\":{\"outlinewidth\":0,\"ticks\":\"\"}}}],\"scatter3d\":[{\"type\":\"scatter3d\",\"line\":{\"colorbar\":{\"outlinewidth\":0,\"ticks\":\"\"}},\"marker\":{\"colorbar\":{\"outlinewidth\":0,\"ticks\":\"\"}}}],\"scattermapbox\":[{\"type\":\"scattermapbox\",\"marker\":{\"colorbar\":{\"outlinewidth\":0,\"ticks\":\"\"}}}],\"scatterternary\":[{\"type\":\"scatterternary\",\"marker\":{\"colorbar\":{\"outlinewidth\":0,\"ticks\":\"\"}}}],\"scattercarpet\":[{\"type\":\"scattercarpet\",\"marker\":{\"colorbar\":{\"outlinewidth\":0,\"ticks\":\"\"}}}],\"carpet\":[{\"aaxis\":{\"endlinecolor\":\"#2a3f5f\",\"gridcolor\":\"white\",\"linecolor\":\"white\",\"minorgridcolor\":\"white\",\"startlinecolor\":\"#2a3f5f\"},\"baxis\":{\"endlinecolor\":\"#2a3f5f\",\"gridcolor\":\"white\",\"linecolor\":\"white\",\"minorgridcolor\":\"white\",\"startlinecolor\":\"#2a3f5f\"},\"type\":\"carpet\"}],\"table\":[{\"cells\":{\"fill\":{\"color\":\"#EBF0F8\"},\"line\":{\"color\":\"white\"}},\"header\":{\"fill\":{\"color\":\"#C8D4E3\"},\"line\":{\"color\":\"white\"}},\"type\":\"table\"}],\"barpolar\":[{\"marker\":{\"line\":{\"color\":\"#E5ECF6\",\"width\":0.5},\"pattern\":{\"fillmode\":\"overlay\",\"size\":10,\"solidity\":0.2}},\"type\":\"barpolar\"}],\"pie\":[{\"automargin\":true,\"type\":\"pie\"}]},\"layout\":{\"autotypenumbers\":\"strict\",\"colorway\":[\"#636efa\",\"#EF553B\",\"#00cc96\",\"#ab63fa\",\"#FFA15A\",\"#19d3f3\",\"#FF6692\",\"#B6E880\",\"#FF97FF\",\"#FECB52\"],\"font\":{\"color\":\"#2a3f5f\"},\"hovermode\":\"closest\",\"hoverlabel\":{\"align\":\"left\"},\"paper_bgcolor\":\"white\",\"plot_bgcolor\":\"#E5ECF6\",\"polar\":{\"bgcolor\":\"#E5ECF6\",\"angularaxis\":{\"gridcolor\":\"white\",\"linecolor\":\"white\",\"ticks\":\"\"},\"radialaxis\":{\"gridcolor\":\"white\",\"linecolor\":\"white\",\"ticks\":\"\"}},\"ternary\":{\"bgcolor\":\"#E5ECF6\",\"aaxis\":{\"gridcolor\":\"white\",\"linecolor\":\"white\",\"ticks\":\"\"},\"baxis\":{\"gridcolor\":\"white\",\"linecolor\":\"white\",\"ticks\":\"\"},\"caxis\":{\"gridcolor\":\"white\",\"linecolor\":\"white\",\"ticks\":\"\"}},\"coloraxis\":{\"colorbar\":{\"outlinewidth\":0,\"ticks\":\"\"}},\"colorscale\":{\"sequential\":[[0.0,\"#0d0887\"],[0.1111111111111111,\"#46039f\"],[0.2222222222222222,\"#7201a8\"],[0.3333333333333333,\"#9c179e\"],[0.4444444444444444,\"#bd3786\"],[0.5555555555555556,\"#d8576b\"],[0.6666666666666666,\"#ed7953\"],[0.7777777777777778,\"#fb9f3a\"],[0.8888888888888888,\"#fdca26\"],[1.0,\"#f0f921\"]],\"sequentialminus\":[[0.0,\"#0d0887\"],[0.1111111111111111,\"#46039f\"],[0.2222222222222222,\"#7201a8\"],[0.3333333333333333,\"#9c179e\"],[0.4444444444444444,\"#bd3786\"],[0.5555555555555556,\"#d8576b\"],[0.6666666666666666,\"#ed7953\"],[0.7777777777777778,\"#fb9f3a\"],[0.8888888888888888,\"#fdca26\"],[1.0,\"#f0f921\"]],\"diverging\":[[0,\"#8e0152\"],[0.1,\"#c51b7d\"],[0.2,\"#de77ae\"],[0.3,\"#f1b6da\"],[0.4,\"#fde0ef\"],[0.5,\"#f7f7f7\"],[0.6,\"#e6f5d0\"],[0.7,\"#b8e186\"],[0.8,\"#7fbc41\"],[0.9,\"#4d9221\"],[1,\"#276419\"]]},\"xaxis\":{\"gridcolor\":\"white\",\"linecolor\":\"white\",\"ticks\":\"\",\"title\":{\"standoff\":15},\"zerolinecolor\":\"white\",\"automargin\":true,\"zerolinewidth\":2},\"yaxis\":{\"gridcolor\":\"white\",\"linecolor\":\"white\",\"ticks\":\"\",\"title\":{\"standoff\":15},\"zerolinecolor\":\"white\",\"automargin\":true,\"zerolinewidth\":2},\"scene\":{\"xaxis\":{\"backgroundcolor\":\"#E5ECF6\",\"gridcolor\":\"white\",\"linecolor\":\"white\",\"showbackground\":true,\"ticks\":\"\",\"zerolinecolor\":\"white\",\"gridwidth\":2},\"yaxis\":{\"backgroundcolor\":\"#E5ECF6\",\"gridcolor\":\"white\",\"linecolor\":\"white\",\"showbackground\":true,\"ticks\":\"\",\"zerolinecolor\":\"white\",\"gridwidth\":2},\"zaxis\":{\"backgroundcolor\":\"#E5ECF6\",\"gridcolor\":\"white\",\"linecolor\":\"white\",\"showbackground\":true,\"ticks\":\"\",\"zerolinecolor\":\"white\",\"gridwidth\":2}},\"shapedefaults\":{\"line\":{\"color\":\"#2a3f5f\"}},\"annotationdefaults\":{\"arrowcolor\":\"#2a3f5f\",\"arrowhead\":0,\"arrowwidth\":1},\"geo\":{\"bgcolor\":\"white\",\"landcolor\":\"#E5ECF6\",\"subunitcolor\":\"white\",\"showland\":true,\"showlakes\":true,\"lakecolor\":\"white\"},\"title\":{\"x\":0.05},\"mapbox\":{\"style\":\"light\"}}},\"legend\":{\"tracegroupgap\":0},\"title\":{\"text\":\"\\u0414\\u0430\\u043d\\u043d\\u044b\\u0435 \\u0434\\u043e \\u043e\\u0431\\u0440\\u0430\\u0431\\u043e\\u0442\\u043a\\u0438\"}},                        {\"responsive\": true}                    ).then(function(){\n",
       "                            \n",
       "var gd = document.getElementById('07735c20-e637-4650-95a5-9f43cd791b2b');\n",
       "var x = new MutationObserver(function (mutations, observer) {{\n",
       "        var display = window.getComputedStyle(gd).display;\n",
       "        if (!display || display === 'none') {{\n",
       "            console.log([gd, 'removed!']);\n",
       "            Plotly.purge(gd);\n",
       "            observer.disconnect();\n",
       "        }}\n",
       "}});\n",
       "\n",
       "// Listen for the removal of the full notebook cells\n",
       "var notebookContainer = gd.closest('#notebook-container');\n",
       "if (notebookContainer) {{\n",
       "    x.observe(notebookContainer, {childList: true});\n",
       "}}\n",
       "\n",
       "// Listen for the clearing of the current output cell\n",
       "var outputEl = gd.closest('.output');\n",
       "if (outputEl) {{\n",
       "    x.observe(outputEl, {childList: true});\n",
       "}}\n",
       "\n",
       "                        })                };                });            </script>        </div>"
      ]
     },
     "metadata": {},
     "output_type": "display_data"
    }
   ],
   "source": [
    "\n",
    "fig = px.pie(row,values ='вес',  names='вес',title='Данные до обработки')\n",
    "fig.show()"
   ]
  },
  {
   "cell_type": "markdown",
   "id": "b5473c68",
   "metadata": {},
   "source": [
    "**И как этот показатель вырос, после обработки**"
   ]
  },
  {
   "cell_type": "code",
   "execution_count": 40,
   "id": "66e50dc3",
   "metadata": {},
   "outputs": [
    {
     "data": {
      "application/vnd.plotly.v1+json": {
       "config": {
        "plotlyServerURL": "https://plot.ly"
       },
       "data": [
        {
         "domain": {
          "x": [
           0,
           1
          ],
          "y": [
           0,
           1
          ]
         },
         "hovertemplate": "вес=%{value}<extra></extra>",
         "labels": [
          0.6915544675642595,
          0.3084455324357405
         ],
         "legendgroup": "",
         "name": "",
         "showlegend": true,
         "type": "pie",
         "values": [
          0.6915544675642595,
          0.3084455324357405
         ]
        }
       ],
       "layout": {
        "legend": {
         "tracegroupgap": 0
        },
        "template": {
         "data": {
          "bar": [
           {
            "error_x": {
             "color": "#2a3f5f"
            },
            "error_y": {
             "color": "#2a3f5f"
            },
            "marker": {
             "line": {
              "color": "#E5ECF6",
              "width": 0.5
             },
             "pattern": {
              "fillmode": "overlay",
              "size": 10,
              "solidity": 0.2
             }
            },
            "type": "bar"
           }
          ],
          "barpolar": [
           {
            "marker": {
             "line": {
              "color": "#E5ECF6",
              "width": 0.5
             },
             "pattern": {
              "fillmode": "overlay",
              "size": 10,
              "solidity": 0.2
             }
            },
            "type": "barpolar"
           }
          ],
          "carpet": [
           {
            "aaxis": {
             "endlinecolor": "#2a3f5f",
             "gridcolor": "white",
             "linecolor": "white",
             "minorgridcolor": "white",
             "startlinecolor": "#2a3f5f"
            },
            "baxis": {
             "endlinecolor": "#2a3f5f",
             "gridcolor": "white",
             "linecolor": "white",
             "minorgridcolor": "white",
             "startlinecolor": "#2a3f5f"
            },
            "type": "carpet"
           }
          ],
          "choropleth": [
           {
            "colorbar": {
             "outlinewidth": 0,
             "ticks": ""
            },
            "type": "choropleth"
           }
          ],
          "contour": [
           {
            "colorbar": {
             "outlinewidth": 0,
             "ticks": ""
            },
            "colorscale": [
             [
              0,
              "#0d0887"
             ],
             [
              0.1111111111111111,
              "#46039f"
             ],
             [
              0.2222222222222222,
              "#7201a8"
             ],
             [
              0.3333333333333333,
              "#9c179e"
             ],
             [
              0.4444444444444444,
              "#bd3786"
             ],
             [
              0.5555555555555556,
              "#d8576b"
             ],
             [
              0.6666666666666666,
              "#ed7953"
             ],
             [
              0.7777777777777778,
              "#fb9f3a"
             ],
             [
              0.8888888888888888,
              "#fdca26"
             ],
             [
              1,
              "#f0f921"
             ]
            ],
            "type": "contour"
           }
          ],
          "contourcarpet": [
           {
            "colorbar": {
             "outlinewidth": 0,
             "ticks": ""
            },
            "type": "contourcarpet"
           }
          ],
          "heatmap": [
           {
            "colorbar": {
             "outlinewidth": 0,
             "ticks": ""
            },
            "colorscale": [
             [
              0,
              "#0d0887"
             ],
             [
              0.1111111111111111,
              "#46039f"
             ],
             [
              0.2222222222222222,
              "#7201a8"
             ],
             [
              0.3333333333333333,
              "#9c179e"
             ],
             [
              0.4444444444444444,
              "#bd3786"
             ],
             [
              0.5555555555555556,
              "#d8576b"
             ],
             [
              0.6666666666666666,
              "#ed7953"
             ],
             [
              0.7777777777777778,
              "#fb9f3a"
             ],
             [
              0.8888888888888888,
              "#fdca26"
             ],
             [
              1,
              "#f0f921"
             ]
            ],
            "type": "heatmap"
           }
          ],
          "heatmapgl": [
           {
            "colorbar": {
             "outlinewidth": 0,
             "ticks": ""
            },
            "colorscale": [
             [
              0,
              "#0d0887"
             ],
             [
              0.1111111111111111,
              "#46039f"
             ],
             [
              0.2222222222222222,
              "#7201a8"
             ],
             [
              0.3333333333333333,
              "#9c179e"
             ],
             [
              0.4444444444444444,
              "#bd3786"
             ],
             [
              0.5555555555555556,
              "#d8576b"
             ],
             [
              0.6666666666666666,
              "#ed7953"
             ],
             [
              0.7777777777777778,
              "#fb9f3a"
             ],
             [
              0.8888888888888888,
              "#fdca26"
             ],
             [
              1,
              "#f0f921"
             ]
            ],
            "type": "heatmapgl"
           }
          ],
          "histogram": [
           {
            "marker": {
             "pattern": {
              "fillmode": "overlay",
              "size": 10,
              "solidity": 0.2
             }
            },
            "type": "histogram"
           }
          ],
          "histogram2d": [
           {
            "colorbar": {
             "outlinewidth": 0,
             "ticks": ""
            },
            "colorscale": [
             [
              0,
              "#0d0887"
             ],
             [
              0.1111111111111111,
              "#46039f"
             ],
             [
              0.2222222222222222,
              "#7201a8"
             ],
             [
              0.3333333333333333,
              "#9c179e"
             ],
             [
              0.4444444444444444,
              "#bd3786"
             ],
             [
              0.5555555555555556,
              "#d8576b"
             ],
             [
              0.6666666666666666,
              "#ed7953"
             ],
             [
              0.7777777777777778,
              "#fb9f3a"
             ],
             [
              0.8888888888888888,
              "#fdca26"
             ],
             [
              1,
              "#f0f921"
             ]
            ],
            "type": "histogram2d"
           }
          ],
          "histogram2dcontour": [
           {
            "colorbar": {
             "outlinewidth": 0,
             "ticks": ""
            },
            "colorscale": [
             [
              0,
              "#0d0887"
             ],
             [
              0.1111111111111111,
              "#46039f"
             ],
             [
              0.2222222222222222,
              "#7201a8"
             ],
             [
              0.3333333333333333,
              "#9c179e"
             ],
             [
              0.4444444444444444,
              "#bd3786"
             ],
             [
              0.5555555555555556,
              "#d8576b"
             ],
             [
              0.6666666666666666,
              "#ed7953"
             ],
             [
              0.7777777777777778,
              "#fb9f3a"
             ],
             [
              0.8888888888888888,
              "#fdca26"
             ],
             [
              1,
              "#f0f921"
             ]
            ],
            "type": "histogram2dcontour"
           }
          ],
          "mesh3d": [
           {
            "colorbar": {
             "outlinewidth": 0,
             "ticks": ""
            },
            "type": "mesh3d"
           }
          ],
          "parcoords": [
           {
            "line": {
             "colorbar": {
              "outlinewidth": 0,
              "ticks": ""
             }
            },
            "type": "parcoords"
           }
          ],
          "pie": [
           {
            "automargin": true,
            "type": "pie"
           }
          ],
          "scatter": [
           {
            "fillpattern": {
             "fillmode": "overlay",
             "size": 10,
             "solidity": 0.2
            },
            "type": "scatter"
           }
          ],
          "scatter3d": [
           {
            "line": {
             "colorbar": {
              "outlinewidth": 0,
              "ticks": ""
             }
            },
            "marker": {
             "colorbar": {
              "outlinewidth": 0,
              "ticks": ""
             }
            },
            "type": "scatter3d"
           }
          ],
          "scattercarpet": [
           {
            "marker": {
             "colorbar": {
              "outlinewidth": 0,
              "ticks": ""
             }
            },
            "type": "scattercarpet"
           }
          ],
          "scattergeo": [
           {
            "marker": {
             "colorbar": {
              "outlinewidth": 0,
              "ticks": ""
             }
            },
            "type": "scattergeo"
           }
          ],
          "scattergl": [
           {
            "marker": {
             "colorbar": {
              "outlinewidth": 0,
              "ticks": ""
             }
            },
            "type": "scattergl"
           }
          ],
          "scattermapbox": [
           {
            "marker": {
             "colorbar": {
              "outlinewidth": 0,
              "ticks": ""
             }
            },
            "type": "scattermapbox"
           }
          ],
          "scatterpolar": [
           {
            "marker": {
             "colorbar": {
              "outlinewidth": 0,
              "ticks": ""
             }
            },
            "type": "scatterpolar"
           }
          ],
          "scatterpolargl": [
           {
            "marker": {
             "colorbar": {
              "outlinewidth": 0,
              "ticks": ""
             }
            },
            "type": "scatterpolargl"
           }
          ],
          "scatterternary": [
           {
            "marker": {
             "colorbar": {
              "outlinewidth": 0,
              "ticks": ""
             }
            },
            "type": "scatterternary"
           }
          ],
          "surface": [
           {
            "colorbar": {
             "outlinewidth": 0,
             "ticks": ""
            },
            "colorscale": [
             [
              0,
              "#0d0887"
             ],
             [
              0.1111111111111111,
              "#46039f"
             ],
             [
              0.2222222222222222,
              "#7201a8"
             ],
             [
              0.3333333333333333,
              "#9c179e"
             ],
             [
              0.4444444444444444,
              "#bd3786"
             ],
             [
              0.5555555555555556,
              "#d8576b"
             ],
             [
              0.6666666666666666,
              "#ed7953"
             ],
             [
              0.7777777777777778,
              "#fb9f3a"
             ],
             [
              0.8888888888888888,
              "#fdca26"
             ],
             [
              1,
              "#f0f921"
             ]
            ],
            "type": "surface"
           }
          ],
          "table": [
           {
            "cells": {
             "fill": {
              "color": "#EBF0F8"
             },
             "line": {
              "color": "white"
             }
            },
            "header": {
             "fill": {
              "color": "#C8D4E3"
             },
             "line": {
              "color": "white"
             }
            },
            "type": "table"
           }
          ]
         },
         "layout": {
          "annotationdefaults": {
           "arrowcolor": "#2a3f5f",
           "arrowhead": 0,
           "arrowwidth": 1
          },
          "autotypenumbers": "strict",
          "coloraxis": {
           "colorbar": {
            "outlinewidth": 0,
            "ticks": ""
           }
          },
          "colorscale": {
           "diverging": [
            [
             0,
             "#8e0152"
            ],
            [
             0.1,
             "#c51b7d"
            ],
            [
             0.2,
             "#de77ae"
            ],
            [
             0.3,
             "#f1b6da"
            ],
            [
             0.4,
             "#fde0ef"
            ],
            [
             0.5,
             "#f7f7f7"
            ],
            [
             0.6,
             "#e6f5d0"
            ],
            [
             0.7,
             "#b8e186"
            ],
            [
             0.8,
             "#7fbc41"
            ],
            [
             0.9,
             "#4d9221"
            ],
            [
             1,
             "#276419"
            ]
           ],
           "sequential": [
            [
             0,
             "#0d0887"
            ],
            [
             0.1111111111111111,
             "#46039f"
            ],
            [
             0.2222222222222222,
             "#7201a8"
            ],
            [
             0.3333333333333333,
             "#9c179e"
            ],
            [
             0.4444444444444444,
             "#bd3786"
            ],
            [
             0.5555555555555556,
             "#d8576b"
            ],
            [
             0.6666666666666666,
             "#ed7953"
            ],
            [
             0.7777777777777778,
             "#fb9f3a"
            ],
            [
             0.8888888888888888,
             "#fdca26"
            ],
            [
             1,
             "#f0f921"
            ]
           ],
           "sequentialminus": [
            [
             0,
             "#0d0887"
            ],
            [
             0.1111111111111111,
             "#46039f"
            ],
            [
             0.2222222222222222,
             "#7201a8"
            ],
            [
             0.3333333333333333,
             "#9c179e"
            ],
            [
             0.4444444444444444,
             "#bd3786"
            ],
            [
             0.5555555555555556,
             "#d8576b"
            ],
            [
             0.6666666666666666,
             "#ed7953"
            ],
            [
             0.7777777777777778,
             "#fb9f3a"
            ],
            [
             0.8888888888888888,
             "#fdca26"
            ],
            [
             1,
             "#f0f921"
            ]
           ]
          },
          "colorway": [
           "#636efa",
           "#EF553B",
           "#00cc96",
           "#ab63fa",
           "#FFA15A",
           "#19d3f3",
           "#FF6692",
           "#B6E880",
           "#FF97FF",
           "#FECB52"
          ],
          "font": {
           "color": "#2a3f5f"
          },
          "geo": {
           "bgcolor": "white",
           "lakecolor": "white",
           "landcolor": "#E5ECF6",
           "showlakes": true,
           "showland": true,
           "subunitcolor": "white"
          },
          "hoverlabel": {
           "align": "left"
          },
          "hovermode": "closest",
          "mapbox": {
           "style": "light"
          },
          "paper_bgcolor": "white",
          "plot_bgcolor": "#E5ECF6",
          "polar": {
           "angularaxis": {
            "gridcolor": "white",
            "linecolor": "white",
            "ticks": ""
           },
           "bgcolor": "#E5ECF6",
           "radialaxis": {
            "gridcolor": "white",
            "linecolor": "white",
            "ticks": ""
           }
          },
          "scene": {
           "xaxis": {
            "backgroundcolor": "#E5ECF6",
            "gridcolor": "white",
            "gridwidth": 2,
            "linecolor": "white",
            "showbackground": true,
            "ticks": "",
            "zerolinecolor": "white"
           },
           "yaxis": {
            "backgroundcolor": "#E5ECF6",
            "gridcolor": "white",
            "gridwidth": 2,
            "linecolor": "white",
            "showbackground": true,
            "ticks": "",
            "zerolinecolor": "white"
           },
           "zaxis": {
            "backgroundcolor": "#E5ECF6",
            "gridcolor": "white",
            "gridwidth": 2,
            "linecolor": "white",
            "showbackground": true,
            "ticks": "",
            "zerolinecolor": "white"
           }
          },
          "shapedefaults": {
           "line": {
            "color": "#2a3f5f"
           }
          },
          "ternary": {
           "aaxis": {
            "gridcolor": "white",
            "linecolor": "white",
            "ticks": ""
           },
           "baxis": {
            "gridcolor": "white",
            "linecolor": "white",
            "ticks": ""
           },
           "bgcolor": "#E5ECF6",
           "caxis": {
            "gridcolor": "white",
            "linecolor": "white",
            "ticks": ""
           }
          },
          "title": {
           "x": 0.05
          },
          "xaxis": {
           "automargin": true,
           "gridcolor": "white",
           "linecolor": "white",
           "ticks": "",
           "title": {
            "standoff": 15
           },
           "zerolinecolor": "white",
           "zerolinewidth": 2
          },
          "yaxis": {
           "automargin": true,
           "gridcolor": "white",
           "linecolor": "white",
           "ticks": "",
           "title": {
            "standoff": 15
           },
           "zerolinecolor": "white",
           "zerolinewidth": 2
          }
         }
        },
        "title": {
         "text": "Данные после обработки"
        }
       }
      },
      "text/html": [
       "<div>                            <div id=\"824f221e-6540-488f-b780-d1a3045ef449\" class=\"plotly-graph-div\" style=\"height:525px; width:100%;\"></div>            <script type=\"text/javascript\">                require([\"plotly\"], function(Plotly) {                    window.PLOTLYENV=window.PLOTLYENV || {};                                    if (document.getElementById(\"824f221e-6540-488f-b780-d1a3045ef449\")) {                    Plotly.newPlot(                        \"824f221e-6540-488f-b780-d1a3045ef449\",                        [{\"domain\":{\"x\":[0.0,1.0],\"y\":[0.0,1.0]},\"hovertemplate\":\"\\u0432\\u0435\\u0441=%{value}<extra></extra>\",\"labels\":[0.6915544675642595,0.3084455324357405],\"legendgroup\":\"\",\"name\":\"\",\"showlegend\":true,\"values\":[0.6915544675642595,0.3084455324357405],\"type\":\"pie\"}],                        {\"template\":{\"data\":{\"histogram2dcontour\":[{\"type\":\"histogram2dcontour\",\"colorbar\":{\"outlinewidth\":0,\"ticks\":\"\"},\"colorscale\":[[0.0,\"#0d0887\"],[0.1111111111111111,\"#46039f\"],[0.2222222222222222,\"#7201a8\"],[0.3333333333333333,\"#9c179e\"],[0.4444444444444444,\"#bd3786\"],[0.5555555555555556,\"#d8576b\"],[0.6666666666666666,\"#ed7953\"],[0.7777777777777778,\"#fb9f3a\"],[0.8888888888888888,\"#fdca26\"],[1.0,\"#f0f921\"]]}],\"choropleth\":[{\"type\":\"choropleth\",\"colorbar\":{\"outlinewidth\":0,\"ticks\":\"\"}}],\"histogram2d\":[{\"type\":\"histogram2d\",\"colorbar\":{\"outlinewidth\":0,\"ticks\":\"\"},\"colorscale\":[[0.0,\"#0d0887\"],[0.1111111111111111,\"#46039f\"],[0.2222222222222222,\"#7201a8\"],[0.3333333333333333,\"#9c179e\"],[0.4444444444444444,\"#bd3786\"],[0.5555555555555556,\"#d8576b\"],[0.6666666666666666,\"#ed7953\"],[0.7777777777777778,\"#fb9f3a\"],[0.8888888888888888,\"#fdca26\"],[1.0,\"#f0f921\"]]}],\"heatmap\":[{\"type\":\"heatmap\",\"colorbar\":{\"outlinewidth\":0,\"ticks\":\"\"},\"colorscale\":[[0.0,\"#0d0887\"],[0.1111111111111111,\"#46039f\"],[0.2222222222222222,\"#7201a8\"],[0.3333333333333333,\"#9c179e\"],[0.4444444444444444,\"#bd3786\"],[0.5555555555555556,\"#d8576b\"],[0.6666666666666666,\"#ed7953\"],[0.7777777777777778,\"#fb9f3a\"],[0.8888888888888888,\"#fdca26\"],[1.0,\"#f0f921\"]]}],\"heatmapgl\":[{\"type\":\"heatmapgl\",\"colorbar\":{\"outlinewidth\":0,\"ticks\":\"\"},\"colorscale\":[[0.0,\"#0d0887\"],[0.1111111111111111,\"#46039f\"],[0.2222222222222222,\"#7201a8\"],[0.3333333333333333,\"#9c179e\"],[0.4444444444444444,\"#bd3786\"],[0.5555555555555556,\"#d8576b\"],[0.6666666666666666,\"#ed7953\"],[0.7777777777777778,\"#fb9f3a\"],[0.8888888888888888,\"#fdca26\"],[1.0,\"#f0f921\"]]}],\"contourcarpet\":[{\"type\":\"contourcarpet\",\"colorbar\":{\"outlinewidth\":0,\"ticks\":\"\"}}],\"contour\":[{\"type\":\"contour\",\"colorbar\":{\"outlinewidth\":0,\"ticks\":\"\"},\"colorscale\":[[0.0,\"#0d0887\"],[0.1111111111111111,\"#46039f\"],[0.2222222222222222,\"#7201a8\"],[0.3333333333333333,\"#9c179e\"],[0.4444444444444444,\"#bd3786\"],[0.5555555555555556,\"#d8576b\"],[0.6666666666666666,\"#ed7953\"],[0.7777777777777778,\"#fb9f3a\"],[0.8888888888888888,\"#fdca26\"],[1.0,\"#f0f921\"]]}],\"surface\":[{\"type\":\"surface\",\"colorbar\":{\"outlinewidth\":0,\"ticks\":\"\"},\"colorscale\":[[0.0,\"#0d0887\"],[0.1111111111111111,\"#46039f\"],[0.2222222222222222,\"#7201a8\"],[0.3333333333333333,\"#9c179e\"],[0.4444444444444444,\"#bd3786\"],[0.5555555555555556,\"#d8576b\"],[0.6666666666666666,\"#ed7953\"],[0.7777777777777778,\"#fb9f3a\"],[0.8888888888888888,\"#fdca26\"],[1.0,\"#f0f921\"]]}],\"mesh3d\":[{\"type\":\"mesh3d\",\"colorbar\":{\"outlinewidth\":0,\"ticks\":\"\"}}],\"scatter\":[{\"fillpattern\":{\"fillmode\":\"overlay\",\"size\":10,\"solidity\":0.2},\"type\":\"scatter\"}],\"parcoords\":[{\"type\":\"parcoords\",\"line\":{\"colorbar\":{\"outlinewidth\":0,\"ticks\":\"\"}}}],\"scatterpolargl\":[{\"type\":\"scatterpolargl\",\"marker\":{\"colorbar\":{\"outlinewidth\":0,\"ticks\":\"\"}}}],\"bar\":[{\"error_x\":{\"color\":\"#2a3f5f\"},\"error_y\":{\"color\":\"#2a3f5f\"},\"marker\":{\"line\":{\"color\":\"#E5ECF6\",\"width\":0.5},\"pattern\":{\"fillmode\":\"overlay\",\"size\":10,\"solidity\":0.2}},\"type\":\"bar\"}],\"scattergeo\":[{\"type\":\"scattergeo\",\"marker\":{\"colorbar\":{\"outlinewidth\":0,\"ticks\":\"\"}}}],\"scatterpolar\":[{\"type\":\"scatterpolar\",\"marker\":{\"colorbar\":{\"outlinewidth\":0,\"ticks\":\"\"}}}],\"histogram\":[{\"marker\":{\"pattern\":{\"fillmode\":\"overlay\",\"size\":10,\"solidity\":0.2}},\"type\":\"histogram\"}],\"scattergl\":[{\"type\":\"scattergl\",\"marker\":{\"colorbar\":{\"outlinewidth\":0,\"ticks\":\"\"}}}],\"scatter3d\":[{\"type\":\"scatter3d\",\"line\":{\"colorbar\":{\"outlinewidth\":0,\"ticks\":\"\"}},\"marker\":{\"colorbar\":{\"outlinewidth\":0,\"ticks\":\"\"}}}],\"scattermapbox\":[{\"type\":\"scattermapbox\",\"marker\":{\"colorbar\":{\"outlinewidth\":0,\"ticks\":\"\"}}}],\"scatterternary\":[{\"type\":\"scatterternary\",\"marker\":{\"colorbar\":{\"outlinewidth\":0,\"ticks\":\"\"}}}],\"scattercarpet\":[{\"type\":\"scattercarpet\",\"marker\":{\"colorbar\":{\"outlinewidth\":0,\"ticks\":\"\"}}}],\"carpet\":[{\"aaxis\":{\"endlinecolor\":\"#2a3f5f\",\"gridcolor\":\"white\",\"linecolor\":\"white\",\"minorgridcolor\":\"white\",\"startlinecolor\":\"#2a3f5f\"},\"baxis\":{\"endlinecolor\":\"#2a3f5f\",\"gridcolor\":\"white\",\"linecolor\":\"white\",\"minorgridcolor\":\"white\",\"startlinecolor\":\"#2a3f5f\"},\"type\":\"carpet\"}],\"table\":[{\"cells\":{\"fill\":{\"color\":\"#EBF0F8\"},\"line\":{\"color\":\"white\"}},\"header\":{\"fill\":{\"color\":\"#C8D4E3\"},\"line\":{\"color\":\"white\"}},\"type\":\"table\"}],\"barpolar\":[{\"marker\":{\"line\":{\"color\":\"#E5ECF6\",\"width\":0.5},\"pattern\":{\"fillmode\":\"overlay\",\"size\":10,\"solidity\":0.2}},\"type\":\"barpolar\"}],\"pie\":[{\"automargin\":true,\"type\":\"pie\"}]},\"layout\":{\"autotypenumbers\":\"strict\",\"colorway\":[\"#636efa\",\"#EF553B\",\"#00cc96\",\"#ab63fa\",\"#FFA15A\",\"#19d3f3\",\"#FF6692\",\"#B6E880\",\"#FF97FF\",\"#FECB52\"],\"font\":{\"color\":\"#2a3f5f\"},\"hovermode\":\"closest\",\"hoverlabel\":{\"align\":\"left\"},\"paper_bgcolor\":\"white\",\"plot_bgcolor\":\"#E5ECF6\",\"polar\":{\"bgcolor\":\"#E5ECF6\",\"angularaxis\":{\"gridcolor\":\"white\",\"linecolor\":\"white\",\"ticks\":\"\"},\"radialaxis\":{\"gridcolor\":\"white\",\"linecolor\":\"white\",\"ticks\":\"\"}},\"ternary\":{\"bgcolor\":\"#E5ECF6\",\"aaxis\":{\"gridcolor\":\"white\",\"linecolor\":\"white\",\"ticks\":\"\"},\"baxis\":{\"gridcolor\":\"white\",\"linecolor\":\"white\",\"ticks\":\"\"},\"caxis\":{\"gridcolor\":\"white\",\"linecolor\":\"white\",\"ticks\":\"\"}},\"coloraxis\":{\"colorbar\":{\"outlinewidth\":0,\"ticks\":\"\"}},\"colorscale\":{\"sequential\":[[0.0,\"#0d0887\"],[0.1111111111111111,\"#46039f\"],[0.2222222222222222,\"#7201a8\"],[0.3333333333333333,\"#9c179e\"],[0.4444444444444444,\"#bd3786\"],[0.5555555555555556,\"#d8576b\"],[0.6666666666666666,\"#ed7953\"],[0.7777777777777778,\"#fb9f3a\"],[0.8888888888888888,\"#fdca26\"],[1.0,\"#f0f921\"]],\"sequentialminus\":[[0.0,\"#0d0887\"],[0.1111111111111111,\"#46039f\"],[0.2222222222222222,\"#7201a8\"],[0.3333333333333333,\"#9c179e\"],[0.4444444444444444,\"#bd3786\"],[0.5555555555555556,\"#d8576b\"],[0.6666666666666666,\"#ed7953\"],[0.7777777777777778,\"#fb9f3a\"],[0.8888888888888888,\"#fdca26\"],[1.0,\"#f0f921\"]],\"diverging\":[[0,\"#8e0152\"],[0.1,\"#c51b7d\"],[0.2,\"#de77ae\"],[0.3,\"#f1b6da\"],[0.4,\"#fde0ef\"],[0.5,\"#f7f7f7\"],[0.6,\"#e6f5d0\"],[0.7,\"#b8e186\"],[0.8,\"#7fbc41\"],[0.9,\"#4d9221\"],[1,\"#276419\"]]},\"xaxis\":{\"gridcolor\":\"white\",\"linecolor\":\"white\",\"ticks\":\"\",\"title\":{\"standoff\":15},\"zerolinecolor\":\"white\",\"automargin\":true,\"zerolinewidth\":2},\"yaxis\":{\"gridcolor\":\"white\",\"linecolor\":\"white\",\"ticks\":\"\",\"title\":{\"standoff\":15},\"zerolinecolor\":\"white\",\"automargin\":true,\"zerolinewidth\":2},\"scene\":{\"xaxis\":{\"backgroundcolor\":\"#E5ECF6\",\"gridcolor\":\"white\",\"linecolor\":\"white\",\"showbackground\":true,\"ticks\":\"\",\"zerolinecolor\":\"white\",\"gridwidth\":2},\"yaxis\":{\"backgroundcolor\":\"#E5ECF6\",\"gridcolor\":\"white\",\"linecolor\":\"white\",\"showbackground\":true,\"ticks\":\"\",\"zerolinecolor\":\"white\",\"gridwidth\":2},\"zaxis\":{\"backgroundcolor\":\"#E5ECF6\",\"gridcolor\":\"white\",\"linecolor\":\"white\",\"showbackground\":true,\"ticks\":\"\",\"zerolinecolor\":\"white\",\"gridwidth\":2}},\"shapedefaults\":{\"line\":{\"color\":\"#2a3f5f\"}},\"annotationdefaults\":{\"arrowcolor\":\"#2a3f5f\",\"arrowhead\":0,\"arrowwidth\":1},\"geo\":{\"bgcolor\":\"white\",\"landcolor\":\"#E5ECF6\",\"subunitcolor\":\"white\",\"showland\":true,\"showlakes\":true,\"lakecolor\":\"white\"},\"title\":{\"x\":0.05},\"mapbox\":{\"style\":\"light\"}}},\"legend\":{\"tracegroupgap\":0},\"title\":{\"text\":\"\\u0414\\u0430\\u043d\\u043d\\u044b\\u0435 \\u043f\\u043e\\u0441\\u043b\\u0435 \\u043e\\u0431\\u0440\\u0430\\u0431\\u043e\\u0442\\u043a\\u0438\"}},                        {\"responsive\": true}                    ).then(function(){\n",
       "                            \n",
       "var gd = document.getElementById('824f221e-6540-488f-b780-d1a3045ef449');\n",
       "var x = new MutationObserver(function (mutations, observer) {{\n",
       "        var display = window.getComputedStyle(gd).display;\n",
       "        if (!display || display === 'none') {{\n",
       "            console.log([gd, 'removed!']);\n",
       "            Plotly.purge(gd);\n",
       "            observer.disconnect();\n",
       "        }}\n",
       "}});\n",
       "\n",
       "// Listen for the removal of the full notebook cells\n",
       "var notebookContainer = gd.closest('#notebook-container');\n",
       "if (notebookContainer) {{\n",
       "    x.observe(notebookContainer, {childList: true});\n",
       "}}\n",
       "\n",
       "// Listen for the clearing of the current output cell\n",
       "var outputEl = gd.closest('.output');\n",
       "if (outputEl) {{\n",
       "    x.observe(outputEl, {childList: true});\n",
       "}}\n",
       "\n",
       "                        })                };                });            </script>        </div>"
      ]
     },
     "metadata": {},
     "output_type": "display_data"
    }
   ],
   "source": [
    "\n",
    "fig = px.pie(filling_weight,values ='вес', names='вес',title='Данные после обработки')\n",
    "fig.show()"
   ]
  },
  {
   "attachments": {
    "image.png": {
     "image/png": "[encoded data removed]"
    }
   },
   "cell_type": "markdown",
   "id": "781e0ecb",
   "metadata": {},
   "source": [
    "![image.png](attachment:image.png)"
   ]
  },
  {
   "cell_type": "code",
   "execution_count": null,
   "id": "f91e4a1e",
   "metadata": {},
   "outputs": [],
   "source": []
  }
 ],
 "metadata": {
  "kernelspec": {
   "display_name": "Python 3 (ipykernel)",
   "language": "python",
   "name": "python3"
  },
  "language_info": {
   "codemirror_mode": {
    "name": "ipython",
    "version": 3
   },
   "file_extension": ".py",
   "mimetype": "text/x-python",
   "name": "python",
   "nbconvert_exporter": "python",
   "pygments_lexer": "ipython3",
   "version": "3.9.13"
  },
  "toc": {
   "base_numbering": 1,
   "nav_menu": {},
   "number_sections": true,
   "sideBar": true,
   "skip_h1_title": false,
   "title_cell": "Table of Contents",
   "title_sidebar": "Contents",
   "toc_cell": false,
   "toc_position": {},
   "toc_section_display": true,
   "toc_window_display": false
  }
 },
 "nbformat": 4,
 "nbformat_minor": 5
}
